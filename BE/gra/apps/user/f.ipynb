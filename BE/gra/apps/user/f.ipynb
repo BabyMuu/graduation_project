{
 "cells": [
  {
   "cell_type": "code",
   "execution_count": 7,
   "metadata": {
    "collapsed": true
   },
   "outputs": [
    {
     "data": {
      "text/plain": "'王秀荣'"
     },
     "execution_count": 7,
     "metadata": {},
     "output_type": "execute_result"
    }
   ],
   "source": [
    "import faker\n",
    "faker.Faker(\"zh_CN\").name()"
   ]
  },
  {
   "cell_type": "code",
   "execution_count": 16,
   "outputs": [
    {
     "name": "stderr",
     "output_type": "stream",
     "text": [
      "C:\\Users\\Administrator\\AppData\\Local\\Temp\\ipykernel_3936\\3345242555.py:12: UserWarning: pandas only supports SQLAlchemy connectable (engine/connection) or database string URI or sqlite3 DBAPI2 connection. Other DBAPI2 objects are not tested. Please consider using SQLAlchemy.\n",
      "  data = pd.read_sql(\"select * from user_questions\",conn)\n"
     ]
    }
   ],
   "source": [
    "import pandas as pd\n",
    "import pymysql\n",
    "conn = pymysql.connect(\n",
    "    host='127.0.0.1',\n",
    "    port=3306,\n",
    "    user='root',\n",
    "    password='123456',\n",
    "    database='gra',\n",
    "    charset='utf8',\n",
    "    autocommit=True\n",
    ")\n",
    "data = pd.read_sql(\"select * from user_questions\",conn)"
   ],
   "metadata": {
    "collapsed": false
   }
  },
  {
   "cell_type": "code",
   "execution_count": 40,
   "outputs": [
    {
     "name": "stdout",
     "output_type": "stream",
     "text": [
      "<class 'pandas.core.frame.DataFrame'>\n",
      "RangeIndex: 2726 entries, 0 to 2725\n",
      "Data columns (total 5 columns):\n",
      " #   Column           Non-Null Count  Dtype  \n",
      "---  ------           --------------  -----  \n",
      " 0   id               2726 non-null   int64  \n",
      " 1   score            2726 non-null   float64\n",
      " 2   student_id       2726 non-null   int64  \n",
      " 3   exam_id          2726 non-null   int64  \n",
      " 4   score_situation  2726 non-null   object \n",
      "dtypes: float64(1), int64(3), object(1)\n",
      "memory usage: 106.6+ KB\n"
     ]
    },
    {
     "name": "stderr",
     "output_type": "stream",
     "text": [
      "C:\\Users\\Administrator\\AppData\\Local\\Temp\\ipykernel_3936\\3169285323.py:1: UserWarning: pandas only supports SQLAlchemy connectable (engine/connection) or database string URI or sqlite3 DBAPI2 connection. Other DBAPI2 objects are not tested. Please consider using SQLAlchemy.\n",
      "  pd.read_sql(\"select * from user_scores\",conn)[['id', 'score', 'student_id', 'exam_id', 'score_situation']].info()\n"
     ]
    }
   ],
   "source": [
    "pd.read_sql(\"select * from user_scores\",conn)[['id', 'score', 'student_id', 'exam_id', 'score_situation']].info()"
   ],
   "metadata": {
    "collapsed": false
   }
  },
  {
   "cell_type": "code",
   "execution_count": 30,
   "outputs": [],
   "source": [
    "include_know_point = data.groupby('exam_id').apply(lambda x: \",\".join(sorted(list(set(x['kno_point'])))))\n",
    "include_know_point.name = 'include_know_point'"
   ],
   "metadata": {
    "collapsed": false
   }
  },
  {
   "cell_type": "code",
   "execution_count": 26,
   "outputs": [
    {
     "name": "stderr",
     "output_type": "stream",
     "text": [
      "C:\\Users\\Administrator\\AppData\\Local\\Temp\\ipykernel_3936\\1516919752.py:1: UserWarning: pandas only supports SQLAlchemy connectable (engine/connection) or database string URI or sqlite3 DBAPI2 connection. Other DBAPI2 objects are not tested. Please consider using SQLAlchemy.\n",
      "  data_2 = pd.read_sql(\"select * from user_scores\",conn)\n"
     ]
    }
   ],
   "source": [
    "data_2 = pd.read_sql(\"select * from user_scores\",conn)\n",
    "data_2 = data_2.groupby('exam_id')[['score']].describe()"
   ],
   "metadata": {
    "collapsed": false
   }
  },
  {
   "cell_type": "code",
   "execution_count": 34,
   "outputs": [],
   "source": [
    "data_2.columns = list(map(lambda x:x[1], data_2.columns))"
   ],
   "metadata": {
    "collapsed": false
   }
  },
  {
   "cell_type": "code",
   "execution_count": 35,
   "outputs": [
    {
     "data": {
      "text/plain": "         count       mean        std   min    25%   50%    75%   max  \\\nexam_id                                                                \n1        301.0  53.720930   9.911367  29.0  47.00  54.0  60.00  85.0   \n2        303.0  52.336634  10.593585  20.0  45.00  52.0  59.00  84.0   \n3        303.0  53.247525  10.225671  30.0  46.50  53.0  60.00  86.0   \n4        303.0  52.894389  10.028209  25.0  46.00  54.0  60.00  78.0   \n5        304.0  52.506579  10.028341  11.0  46.75  53.0  59.25  78.0   \n6        303.0  52.270627  10.552268  24.0  44.50  52.0  60.00  79.0   \n7        303.0  52.412541  10.321878  24.0  46.00  53.0  59.50  80.0   \n8        303.0  53.957096  10.682418  20.0  46.00  55.0  61.00  87.0   \n9        303.0  52.854785  11.017086  16.0  45.50  53.0  60.00  85.0   \n\n                                        include_know_point  \nexam_id                                                     \n1        一元一次方程,一次函数,三角函数,三角形,二次函数,二次根式,几何,分式,反比例函数,平面直...  \n2         一元一次方程,一元二次方程,三角函数,三角形,二次函数,分式,四边形,实数,平面直角坐标,轴对称  \n3         一元一次方程,一次函数,三角函数,三角形,不等式,二元一次方程,反比例函数,四边形,实数,轴对称  \n4        一元二次方程,一次函数,三角函数,三角形,二元一次方程,分式,反比例函数,圆,平面直角坐标,...  \n5          一元二次方程,一次函数,二次根式,几何,分式,四边形,因式分解,圆,平面直角坐标,概率,轴对称  \n6        一元二次方程,一次函数,二次函数,反比例函数,四边形,因式分解,圆,实数,平面直角坐标,整式...  \n7             一元二次方程,三角函数,二元一次方程,二次函数,二次根式,分式,四边形,圆,整式,轴对称  \n8            一元一次方程,一元二次方程,一次函数,三角函数,三角形,不等式,四边形,实数,平面直角坐标  \n9        一元一次方程,一元二次方程,三角函数,三角形,二元一次方程,分式,反比例函数,四边形,平面直...  ",
      "text/html": "<div>\n<style scoped>\n    .dataframe tbody tr th:only-of-type {\n        vertical-align: middle;\n    }\n\n    .dataframe tbody tr th {\n        vertical-align: top;\n    }\n\n    .dataframe thead th {\n        text-align: right;\n    }\n</style>\n<table border=\"1\" class=\"dataframe\">\n  <thead>\n    <tr style=\"text-align: right;\">\n      <th></th>\n      <th>count</th>\n      <th>mean</th>\n      <th>std</th>\n      <th>min</th>\n      <th>25%</th>\n      <th>50%</th>\n      <th>75%</th>\n      <th>max</th>\n      <th>include_know_point</th>\n    </tr>\n    <tr>\n      <th>exam_id</th>\n      <th></th>\n      <th></th>\n      <th></th>\n      <th></th>\n      <th></th>\n      <th></th>\n      <th></th>\n      <th></th>\n      <th></th>\n    </tr>\n  </thead>\n  <tbody>\n    <tr>\n      <th>1</th>\n      <td>301.0</td>\n      <td>53.720930</td>\n      <td>9.911367</td>\n      <td>29.0</td>\n      <td>47.00</td>\n      <td>54.0</td>\n      <td>60.00</td>\n      <td>85.0</td>\n      <td>一元一次方程,一次函数,三角函数,三角形,二次函数,二次根式,几何,分式,反比例函数,平面直...</td>\n    </tr>\n    <tr>\n      <th>2</th>\n      <td>303.0</td>\n      <td>52.336634</td>\n      <td>10.593585</td>\n      <td>20.0</td>\n      <td>45.00</td>\n      <td>52.0</td>\n      <td>59.00</td>\n      <td>84.0</td>\n      <td>一元一次方程,一元二次方程,三角函数,三角形,二次函数,分式,四边形,实数,平面直角坐标,轴对称</td>\n    </tr>\n    <tr>\n      <th>3</th>\n      <td>303.0</td>\n      <td>53.247525</td>\n      <td>10.225671</td>\n      <td>30.0</td>\n      <td>46.50</td>\n      <td>53.0</td>\n      <td>60.00</td>\n      <td>86.0</td>\n      <td>一元一次方程,一次函数,三角函数,三角形,不等式,二元一次方程,反比例函数,四边形,实数,轴对称</td>\n    </tr>\n    <tr>\n      <th>4</th>\n      <td>303.0</td>\n      <td>52.894389</td>\n      <td>10.028209</td>\n      <td>25.0</td>\n      <td>46.00</td>\n      <td>54.0</td>\n      <td>60.00</td>\n      <td>78.0</td>\n      <td>一元二次方程,一次函数,三角函数,三角形,二元一次方程,分式,反比例函数,圆,平面直角坐标,...</td>\n    </tr>\n    <tr>\n      <th>5</th>\n      <td>304.0</td>\n      <td>52.506579</td>\n      <td>10.028341</td>\n      <td>11.0</td>\n      <td>46.75</td>\n      <td>53.0</td>\n      <td>59.25</td>\n      <td>78.0</td>\n      <td>一元二次方程,一次函数,二次根式,几何,分式,四边形,因式分解,圆,平面直角坐标,概率,轴对称</td>\n    </tr>\n    <tr>\n      <th>6</th>\n      <td>303.0</td>\n      <td>52.270627</td>\n      <td>10.552268</td>\n      <td>24.0</td>\n      <td>44.50</td>\n      <td>52.0</td>\n      <td>60.00</td>\n      <td>79.0</td>\n      <td>一元二次方程,一次函数,二次函数,反比例函数,四边形,因式分解,圆,实数,平面直角坐标,整式...</td>\n    </tr>\n    <tr>\n      <th>7</th>\n      <td>303.0</td>\n      <td>52.412541</td>\n      <td>10.321878</td>\n      <td>24.0</td>\n      <td>46.00</td>\n      <td>53.0</td>\n      <td>59.50</td>\n      <td>80.0</td>\n      <td>一元二次方程,三角函数,二元一次方程,二次函数,二次根式,分式,四边形,圆,整式,轴对称</td>\n    </tr>\n    <tr>\n      <th>8</th>\n      <td>303.0</td>\n      <td>53.957096</td>\n      <td>10.682418</td>\n      <td>20.0</td>\n      <td>46.00</td>\n      <td>55.0</td>\n      <td>61.00</td>\n      <td>87.0</td>\n      <td>一元一次方程,一元二次方程,一次函数,三角函数,三角形,不等式,四边形,实数,平面直角坐标</td>\n    </tr>\n    <tr>\n      <th>9</th>\n      <td>303.0</td>\n      <td>52.854785</td>\n      <td>11.017086</td>\n      <td>16.0</td>\n      <td>45.50</td>\n      <td>53.0</td>\n      <td>60.00</td>\n      <td>85.0</td>\n      <td>一元一次方程,一元二次方程,三角函数,三角形,二元一次方程,分式,反比例函数,四边形,平面直...</td>\n    </tr>\n  </tbody>\n</table>\n</div>"
     },
     "execution_count": 35,
     "metadata": {},
     "output_type": "execute_result"
    }
   ],
   "source": [
    "pd.merge(data_2, include_know_point, on=\"exam_id\")"
   ],
   "metadata": {
    "collapsed": false
   }
  }
 ],
 "metadata": {
  "kernelspec": {
   "display_name": "Python 3",
   "language": "python",
   "name": "python3"
  },
  "language_info": {
   "codemirror_mode": {
    "name": "ipython",
    "version": 2
   },
   "file_extension": ".py",
   "mimetype": "text/x-python",
   "name": "python",
   "nbconvert_exporter": "python",
   "pygments_lexer": "ipython2",
   "version": "2.7.6"
  }
 },
 "nbformat": 4,
 "nbformat_minor": 0
}
