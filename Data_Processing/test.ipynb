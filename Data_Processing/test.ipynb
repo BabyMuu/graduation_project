{
 "cells": [
  {
   "cell_type": "code",
   "execution_count": 1,
   "outputs": [],
   "source": [
    "import pymongo as pymongo\n",
    "import pymysql\n",
    "\n",
    "conn = pymysql.connect(\n",
    "    host='127.0.0.1',\n",
    "    port=3306,\n",
    "    user='root',\n",
    "    password='123456',\n",
    "    database='graduation',\n",
    "    charset='utf8',\n",
    "    autocommit=True\n",
    ")"
   ],
   "metadata": {
    "collapsed": false
   }
  },
  {
   "cell_type": "code",
   "execution_count": 2,
   "outputs": [],
   "source": [
    "import pymysql\n",
    "\n",
    "examination_id = 2\n",
    "\n",
    "cur = conn.cursor(pymysql.cursors.DictCursor)\n",
    "cur.execute(f\"select * from scores where examination_id = {examination_id}\")\n",
    "students = cur.fetchall()\n",
    "cur.execute(f'select * from question where  examination_id = {examination_id}')\n",
    "questions = cur.fetchall()\n"
   ],
   "metadata": {
    "collapsed": false
   }
  },
  {
   "cell_type": "code",
   "execution_count": 3,
   "outputs": [
    {
     "data": {
      "text/plain": "[{'id': 30,\n  'name': '概率',\n  'examination_id': 2,\n  'score': 5,\n  'types': 0,\n  'exam_order': 1},\n {'id': 31,\n  'name': '实数',\n  'examination_id': 2,\n  'score': 5,\n  'types': 0,\n  'exam_order': 2},\n {'id': 32,\n  'name': '不等式',\n  'examination_id': 2,\n  'score': 5,\n  'types': 0,\n  'exam_order': 3},\n {'id': 33,\n  'name': '三角函数',\n  'examination_id': 2,\n  'score': 5,\n  'types': 0,\n  'exam_order': 4},\n {'id': 34,\n  'name': '分式',\n  'examination_id': 2,\n  'score': 5,\n  'types': 0,\n  'exam_order': 5},\n {'id': 35,\n  'name': '四边形',\n  'examination_id': 2,\n  'score': 5,\n  'types': 1,\n  'exam_order': 6},\n {'id': 36,\n  'name': '一次函数',\n  'examination_id': 2,\n  'score': 5,\n  'types': 1,\n  'exam_order': 7},\n {'id': 37,\n  'name': '轴对称',\n  'examination_id': 2,\n  'score': 5,\n  'types': 1,\n  'exam_order': 8},\n {'id': 38,\n  'name': '概率',\n  'examination_id': 2,\n  'score': 5,\n  'types': 1,\n  'exam_order': 9},\n {'id': 39,\n  'name': '一元二次方程',\n  'examination_id': 2,\n  'score': 5,\n  'types': 1,\n  'exam_order': 10},\n {'id': 40,\n  'name': '轴对称',\n  'examination_id': 2,\n  'score': 10,\n  'types': 2,\n  'exam_order': 11},\n {'id': 41,\n  'name': '二次函数',\n  'examination_id': 2,\n  'score': 10,\n  'types': 2,\n  'exam_order': 12},\n {'id': 42,\n  'name': '一次函数',\n  'examination_id': 2,\n  'score': 10,\n  'types': 2,\n  'exam_order': 13},\n {'id': 43,\n  'name': '实数',\n  'examination_id': 2,\n  'score': 10,\n  'types': 2,\n  'exam_order': 14},\n {'id': 44,\n  'name': '二元一次方程',\n  'examination_id': 2,\n  'score': 10,\n  'types': 2,\n  'exam_order': 15}]"
     },
     "execution_count": 3,
     "metadata": {},
     "output_type": "execute_result"
    }
   ],
   "source": [
    "questions"
   ],
   "metadata": {
    "collapsed": false
   }
  },
  {
   "cell_type": "code",
   "execution_count": 4,
   "outputs": [],
   "source": [
    "from collections import defaultdict\n",
    "\n",
    "know_point_score = defaultdict(int)\n",
    "for i in questions:\n",
    "    know_point_score[i.get('name')] += i.get('score')"
   ],
   "metadata": {
    "collapsed": false
   }
  },
  {
   "cell_type": "code",
   "execution_count": 5,
   "outputs": [
    {
     "data": {
      "text/plain": "defaultdict(int,\n            {'概率': 10,\n             '实数': 15,\n             '不等式': 5,\n             '三角函数': 5,\n             '分式': 5,\n             '四边形': 5,\n             '一次函数': 15,\n             '轴对称': 15,\n             '一元二次方程': 5,\n             '二次函数': 10,\n             '二元一次方程': 10})"
     },
     "execution_count": 5,
     "metadata": {},
     "output_type": "execute_result"
    }
   ],
   "source": [
    "know_point_score"
   ],
   "metadata": {
    "collapsed": false
   }
  },
  {
   "cell_type": "code",
   "execution_count": 6,
   "outputs": [],
   "source": [
    "stus = {}\n",
    "for stu in students:\n",
    "    stu_get_score = defaultdict(int)\n",
    "    scores = stu['score'].split(',')\n",
    "    for i in range(len(scores)):\n",
    "        stu_get_score[questions[i].get('name')] += int(scores[i]) / know_point_score[questions[i].get('name')]\n",
    "        stu_get_score[questions[i].get('name')] = round(stu_get_score[questions[i].get('name')], 2)\n",
    "    stus[stu.get('id')] = stu_get_score"
   ],
   "metadata": {
    "collapsed": false
   }
  },
  {
   "cell_type": "code",
   "execution_count": 7,
   "outputs": [
    {
     "data": {
      "text/plain": "{713: defaultdict(int,\n             {'概率': 1.0,\n              '实数': 0.8,\n              '不等式': 1.0,\n              '三角函数': 0.0,\n              '分式': 0.0,\n              '四边形': 1.0,\n              '一次函数': 0.4,\n              '轴对称': 0.6,\n              '一元二次方程': 1.0,\n              '二次函数': 0.6,\n              '二元一次方程': 0.8}),\n 714: defaultdict(int,\n             {'概率': 0.5,\n              '实数': 0.6,\n              '不等式': 1.0,\n              '三角函数': 0.0,\n              '分式': 0.0,\n              '四边形': 1.0,\n              '一次函数': 0.53,\n              '轴对称': 0.93,\n              '一元二次方程': 0.0,\n              '二次函数': 0.6,\n              '二元一次方程': 0.3}),\n 715: defaultdict(int,\n             {'概率': 0.5,\n              '实数': 0.53,\n              '不等式': 0.0,\n              '三角函数': 0.0,\n              '分式': 1.0,\n              '四边形': 1.0,\n              '一次函数': 0.33,\n              '轴对称': 0.6,\n              '一元二次方程': 0.0,\n              '二次函数': 1.0,\n              '二元一次方程': 0.1}),\n 716: defaultdict(int,\n             {'概率': 0.0,\n              '实数': 0.6,\n              '不等式': 0.0,\n              '三角函数': 1.0,\n              '分式': 1.0,\n              '四边形': 1.0,\n              '一次函数': 0.93,\n              '轴对称': 0.27,\n              '一元二次方程': 0.0,\n              '二次函数': 0.6,\n              '二元一次方程': 0.1}),\n 717: defaultdict(int,\n             {'概率': 0.5,\n              '实数': 0.67,\n              '不等式': 1.0,\n              '三角函数': 1.0,\n              '分式': 0.0,\n              '四边形': 1.0,\n              '一次函数': 0.53,\n              '轴对称': 0.86,\n              '一元二次方程': 1.0,\n              '二次函数': 0.5,\n              '二元一次方程': 0.2}),\n 718: defaultdict(int,\n             {'概率': 0.5,\n              '实数': 0.13,\n              '不等式': 1.0,\n              '三角函数': 0.0,\n              '分式': 0.0,\n              '四边形': 0.0,\n              '一次函数': 0.13,\n              '轴对称': 0.07,\n              '一元二次方程': 0.0,\n              '二次函数': 0.2,\n              '二元一次方程': 0.3}),\n 719: defaultdict(int,\n             {'概率': 0.0,\n              '实数': 0.73,\n              '不等式': 0.0,\n              '三角函数': 0.0,\n              '分式': 0.0,\n              '四边形': 0.0,\n              '一次函数': 0.46,\n              '轴对称': 0.66,\n              '一元二次方程': 0.0,\n              '二次函数': 0.2,\n              '二元一次方程': 0.8}),\n 720: defaultdict(int,\n             {'概率': 1.0,\n              '实数': 0.2,\n              '不等式': 0.0,\n              '三角函数': 0.0,\n              '分式': 0.0,\n              '四边形': 0.0,\n              '一次函数': 0.4,\n              '轴对称': 0.4,\n              '一元二次方程': 1.0,\n              '二次函数': 0.4,\n              '二元一次方程': 0.4}),\n 721: defaultdict(int,\n             {'概率': 0.5,\n              '实数': 0.4,\n              '不等式': 1.0,\n              '三角函数': 1.0,\n              '分式': 1.0,\n              '四边形': 0.0,\n              '一次函数': 0.27,\n              '轴对称': 0.2,\n              '一元二次方程': 1.0,\n              '二次函数': 1.0,\n              '二元一次方程': 0.9}),\n 722: defaultdict(int,\n             {'概率': 0.0,\n              '实数': 0.46,\n              '不等式': 1.0,\n              '三角函数': 0.0,\n              '分式': 1.0,\n              '四边形': 1.0,\n              '一次函数': 1.0,\n              '轴对称': 0.8,\n              '一元二次方程': 0.0,\n              '二次函数': 1.0,\n              '二元一次方程': 0.5}),\n 723: defaultdict(int,\n             {'概率': 0.5,\n              '实数': 0.8,\n              '不等式': 1.0,\n              '三角函数': 1.0,\n              '分式': 0.0,\n              '四边形': 1.0,\n              '一次函数': 0.53,\n              '轴对称': 0.47,\n              '一元二次方程': 0.0,\n              '二次函数': 0.3,\n              '二元一次方程': 0.9}),\n 724: defaultdict(int,\n             {'概率': 0.5,\n              '实数': 0.33,\n              '不等式': 0.0,\n              '三角函数': 1.0,\n              '分式': 1.0,\n              '四边形': 1.0,\n              '一次函数': 0.73,\n              '轴对称': 0.13,\n              '一元二次方程': 0.0,\n              '二次函数': 0.6,\n              '二元一次方程': 1.0}),\n 725: defaultdict(int,\n             {'概率': 0.0,\n              '实数': 0.73,\n              '不等式': 1.0,\n              '三角函数': 1.0,\n              '分式': 1.0,\n              '四边形': 1.0,\n              '一次函数': 0.53,\n              '轴对称': 0.6,\n              '一元二次方程': 1.0,\n              '二次函数': 0.9,\n              '二元一次方程': 0.5}),\n 726: defaultdict(int,\n             {'概率': 0.5,\n              '实数': 1.0,\n              '不等式': 0.0,\n              '三角函数': 0.0,\n              '分式': 1.0,\n              '四边形': 0.0,\n              '一次函数': 0.4,\n              '轴对称': 1.0,\n              '一元二次方程': 0.0,\n              '二次函数': 0.7,\n              '二元一次方程': 0.4})}"
     },
     "execution_count": 7,
     "metadata": {},
     "output_type": "execute_result"
    }
   ],
   "source": [
    "stus"
   ],
   "metadata": {
    "collapsed": false
   }
  },
  {
   "cell_type": "code",
   "execution_count": 8,
   "outputs": [],
   "source": [
    "import pandas as pd"
   ],
   "metadata": {
    "collapsed": false
   }
  },
  {
   "cell_type": "code",
   "execution_count": 9,
   "outputs": [],
   "source": [
    "data = pd.DataFrame(stus)"
   ],
   "metadata": {
    "collapsed": false
   }
  },
  {
   "cell_type": "code",
   "execution_count": 10,
   "outputs": [],
   "source": [
    "data = data.T"
   ],
   "metadata": {
    "collapsed": false
   }
  },
  {
   "cell_type": "code",
   "execution_count": 11,
   "outputs": [
    {
     "data": {
      "text/plain": "      概率    实数  不等式  三角函数   分式  四边形  一次函数   轴对称  一元二次方程  二次函数  二元一次方程\n713  1.0  0.80  1.0   0.0  0.0  1.0  0.40  0.60     1.0   0.6     0.8\n714  0.5  0.60  1.0   0.0  0.0  1.0  0.53  0.93     0.0   0.6     0.3\n715  0.5  0.53  0.0   0.0  1.0  1.0  0.33  0.60     0.0   1.0     0.1\n716  0.0  0.60  0.0   1.0  1.0  1.0  0.93  0.27     0.0   0.6     0.1\n717  0.5  0.67  1.0   1.0  0.0  1.0  0.53  0.86     1.0   0.5     0.2\n718  0.5  0.13  1.0   0.0  0.0  0.0  0.13  0.07     0.0   0.2     0.3\n719  0.0  0.73  0.0   0.0  0.0  0.0  0.46  0.66     0.0   0.2     0.8\n720  1.0  0.20  0.0   0.0  0.0  0.0  0.40  0.40     1.0   0.4     0.4\n721  0.5  0.40  1.0   1.0  1.0  0.0  0.27  0.20     1.0   1.0     0.9\n722  0.0  0.46  1.0   0.0  1.0  1.0  1.00  0.80     0.0   1.0     0.5\n723  0.5  0.80  1.0   1.0  0.0  1.0  0.53  0.47     0.0   0.3     0.9\n724  0.5  0.33  0.0   1.0  1.0  1.0  0.73  0.13     0.0   0.6     1.0\n725  0.0  0.73  1.0   1.0  1.0  1.0  0.53  0.60     1.0   0.9     0.5\n726  0.5  1.00  0.0   0.0  1.0  0.0  0.40  1.00     0.0   0.7     0.4",
      "text/html": "<div>\n<style scoped>\n    .dataframe tbody tr th:only-of-type {\n        vertical-align: middle;\n    }\n\n    .dataframe tbody tr th {\n        vertical-align: top;\n    }\n\n    .dataframe thead th {\n        text-align: right;\n    }\n</style>\n<table border=\"1\" class=\"dataframe\">\n  <thead>\n    <tr style=\"text-align: right;\">\n      <th></th>\n      <th>概率</th>\n      <th>实数</th>\n      <th>不等式</th>\n      <th>三角函数</th>\n      <th>分式</th>\n      <th>四边形</th>\n      <th>一次函数</th>\n      <th>轴对称</th>\n      <th>一元二次方程</th>\n      <th>二次函数</th>\n      <th>二元一次方程</th>\n    </tr>\n  </thead>\n  <tbody>\n    <tr>\n      <th>713</th>\n      <td>1.0</td>\n      <td>0.80</td>\n      <td>1.0</td>\n      <td>0.0</td>\n      <td>0.0</td>\n      <td>1.0</td>\n      <td>0.40</td>\n      <td>0.60</td>\n      <td>1.0</td>\n      <td>0.6</td>\n      <td>0.8</td>\n    </tr>\n    <tr>\n      <th>714</th>\n      <td>0.5</td>\n      <td>0.60</td>\n      <td>1.0</td>\n      <td>0.0</td>\n      <td>0.0</td>\n      <td>1.0</td>\n      <td>0.53</td>\n      <td>0.93</td>\n      <td>0.0</td>\n      <td>0.6</td>\n      <td>0.3</td>\n    </tr>\n    <tr>\n      <th>715</th>\n      <td>0.5</td>\n      <td>0.53</td>\n      <td>0.0</td>\n      <td>0.0</td>\n      <td>1.0</td>\n      <td>1.0</td>\n      <td>0.33</td>\n      <td>0.60</td>\n      <td>0.0</td>\n      <td>1.0</td>\n      <td>0.1</td>\n    </tr>\n    <tr>\n      <th>716</th>\n      <td>0.0</td>\n      <td>0.60</td>\n      <td>0.0</td>\n      <td>1.0</td>\n      <td>1.0</td>\n      <td>1.0</td>\n      <td>0.93</td>\n      <td>0.27</td>\n      <td>0.0</td>\n      <td>0.6</td>\n      <td>0.1</td>\n    </tr>\n    <tr>\n      <th>717</th>\n      <td>0.5</td>\n      <td>0.67</td>\n      <td>1.0</td>\n      <td>1.0</td>\n      <td>0.0</td>\n      <td>1.0</td>\n      <td>0.53</td>\n      <td>0.86</td>\n      <td>1.0</td>\n      <td>0.5</td>\n      <td>0.2</td>\n    </tr>\n    <tr>\n      <th>718</th>\n      <td>0.5</td>\n      <td>0.13</td>\n      <td>1.0</td>\n      <td>0.0</td>\n      <td>0.0</td>\n      <td>0.0</td>\n      <td>0.13</td>\n      <td>0.07</td>\n      <td>0.0</td>\n      <td>0.2</td>\n      <td>0.3</td>\n    </tr>\n    <tr>\n      <th>719</th>\n      <td>0.0</td>\n      <td>0.73</td>\n      <td>0.0</td>\n      <td>0.0</td>\n      <td>0.0</td>\n      <td>0.0</td>\n      <td>0.46</td>\n      <td>0.66</td>\n      <td>0.0</td>\n      <td>0.2</td>\n      <td>0.8</td>\n    </tr>\n    <tr>\n      <th>720</th>\n      <td>1.0</td>\n      <td>0.20</td>\n      <td>0.0</td>\n      <td>0.0</td>\n      <td>0.0</td>\n      <td>0.0</td>\n      <td>0.40</td>\n      <td>0.40</td>\n      <td>1.0</td>\n      <td>0.4</td>\n      <td>0.4</td>\n    </tr>\n    <tr>\n      <th>721</th>\n      <td>0.5</td>\n      <td>0.40</td>\n      <td>1.0</td>\n      <td>1.0</td>\n      <td>1.0</td>\n      <td>0.0</td>\n      <td>0.27</td>\n      <td>0.20</td>\n      <td>1.0</td>\n      <td>1.0</td>\n      <td>0.9</td>\n    </tr>\n    <tr>\n      <th>722</th>\n      <td>0.0</td>\n      <td>0.46</td>\n      <td>1.0</td>\n      <td>0.0</td>\n      <td>1.0</td>\n      <td>1.0</td>\n      <td>1.00</td>\n      <td>0.80</td>\n      <td>0.0</td>\n      <td>1.0</td>\n      <td>0.5</td>\n    </tr>\n    <tr>\n      <th>723</th>\n      <td>0.5</td>\n      <td>0.80</td>\n      <td>1.0</td>\n      <td>1.0</td>\n      <td>0.0</td>\n      <td>1.0</td>\n      <td>0.53</td>\n      <td>0.47</td>\n      <td>0.0</td>\n      <td>0.3</td>\n      <td>0.9</td>\n    </tr>\n    <tr>\n      <th>724</th>\n      <td>0.5</td>\n      <td>0.33</td>\n      <td>0.0</td>\n      <td>1.0</td>\n      <td>1.0</td>\n      <td>1.0</td>\n      <td>0.73</td>\n      <td>0.13</td>\n      <td>0.0</td>\n      <td>0.6</td>\n      <td>1.0</td>\n    </tr>\n    <tr>\n      <th>725</th>\n      <td>0.0</td>\n      <td>0.73</td>\n      <td>1.0</td>\n      <td>1.0</td>\n      <td>1.0</td>\n      <td>1.0</td>\n      <td>0.53</td>\n      <td>0.60</td>\n      <td>1.0</td>\n      <td>0.9</td>\n      <td>0.5</td>\n    </tr>\n    <tr>\n      <th>726</th>\n      <td>0.5</td>\n      <td>1.00</td>\n      <td>0.0</td>\n      <td>0.0</td>\n      <td>1.0</td>\n      <td>0.0</td>\n      <td>0.40</td>\n      <td>1.00</td>\n      <td>0.0</td>\n      <td>0.7</td>\n      <td>0.4</td>\n    </tr>\n  </tbody>\n</table>\n</div>"
     },
     "execution_count": 11,
     "metadata": {},
     "output_type": "execute_result"
    }
   ],
   "source": [
    "data"
   ],
   "metadata": {
    "collapsed": false
   }
  },
  {
   "cell_type": "code",
   "execution_count": 12,
   "outputs": [],
   "source": [
    "from sklearn.cluster import KMeans\n",
    "\n",
    "ks = [KMeans(n_clusters=4, random_state=0) for i in range(len(data))]"
   ],
   "metadata": {
    "collapsed": false
   }
  },
  {
   "cell_type": "code",
   "execution_count": 13,
   "outputs": [
    {
     "name": "stderr",
     "output_type": "stream",
     "text": [
      "D:\\Programming\\python\\virt\\base\\python311\\Lib\\site-packages\\sklearn\\cluster\\_kmeans.py:870: FutureWarning: The default value of `n_init` will change from 10 to 'auto' in 1.4. Set the value of `n_init` explicitly to suppress the warning\n",
      "  warnings.warn(\n",
      "D:\\Programming\\python\\virt\\base\\python311\\Lib\\site-packages\\sklearn\\cluster\\_kmeans.py:870: FutureWarning: The default value of `n_init` will change from 10 to 'auto' in 1.4. Set the value of `n_init` explicitly to suppress the warning\n",
      "  warnings.warn(\n",
      "D:\\Programming\\python\\virt\\base\\python311\\Lib\\site-packages\\sklearn\\cluster\\_kmeans.py:870: FutureWarning: The default value of `n_init` will change from 10 to 'auto' in 1.4. Set the value of `n_init` explicitly to suppress the warning\n",
      "  warnings.warn(\n",
      "D:\\Programming\\python\\virt\\base\\python311\\Lib\\site-packages\\sklearn\\cluster\\_kmeans.py:870: FutureWarning: The default value of `n_init` will change from 10 to 'auto' in 1.4. Set the value of `n_init` explicitly to suppress the warning\n",
      "  warnings.warn(\n",
      "D:\\Programming\\python\\virt\\base\\python311\\Lib\\site-packages\\sklearn\\cluster\\_kmeans.py:870: FutureWarning: The default value of `n_init` will change from 10 to 'auto' in 1.4. Set the value of `n_init` explicitly to suppress the warning\n",
      "  warnings.warn(\n",
      "D:\\Programming\\python\\virt\\base\\python311\\Lib\\site-packages\\sklearn\\cluster\\_kmeans.py:870: FutureWarning: The default value of `n_init` will change from 10 to 'auto' in 1.4. Set the value of `n_init` explicitly to suppress the warning\n",
      "  warnings.warn(\n",
      "D:\\Programming\\python\\virt\\base\\python311\\Lib\\site-packages\\sklearn\\cluster\\_kmeans.py:870: FutureWarning: The default value of `n_init` will change from 10 to 'auto' in 1.4. Set the value of `n_init` explicitly to suppress the warning\n",
      "  warnings.warn(\n",
      "D:\\Programming\\python\\virt\\base\\python311\\Lib\\site-packages\\sklearn\\cluster\\_kmeans.py:870: FutureWarning: The default value of `n_init` will change from 10 to 'auto' in 1.4. Set the value of `n_init` explicitly to suppress the warning\n",
      "  warnings.warn(\n",
      "D:\\Programming\\python\\virt\\base\\python311\\Lib\\site-packages\\sklearn\\cluster\\_kmeans.py:870: FutureWarning: The default value of `n_init` will change from 10 to 'auto' in 1.4. Set the value of `n_init` explicitly to suppress the warning\n",
      "  warnings.warn(\n",
      "D:\\Programming\\python\\virt\\base\\python311\\Lib\\site-packages\\sklearn\\cluster\\_kmeans.py:870: FutureWarning: The default value of `n_init` will change from 10 to 'auto' in 1.4. Set the value of `n_init` explicitly to suppress the warning\n",
      "  warnings.warn(\n",
      "D:\\Programming\\python\\virt\\base\\python311\\Lib\\site-packages\\sklearn\\cluster\\_kmeans.py:870: FutureWarning: The default value of `n_init` will change from 10 to 'auto' in 1.4. Set the value of `n_init` explicitly to suppress the warning\n",
      "  warnings.warn(\n",
      "D:\\Programming\\python\\virt\\base\\python311\\Lib\\site-packages\\sklearn\\cluster\\_kmeans.py:870: FutureWarning: The default value of `n_init` will change from 10 to 'auto' in 1.4. Set the value of `n_init` explicitly to suppress the warning\n",
      "  warnings.warn(\n",
      "D:\\Programming\\python\\virt\\base\\python311\\Lib\\site-packages\\sklearn\\cluster\\_kmeans.py:870: FutureWarning: The default value of `n_init` will change from 10 to 'auto' in 1.4. Set the value of `n_init` explicitly to suppress the warning\n",
      "  warnings.warn(\n",
      "D:\\Programming\\python\\virt\\base\\python311\\Lib\\site-packages\\sklearn\\cluster\\_kmeans.py:870: FutureWarning: The default value of `n_init` will change from 10 to 'auto' in 1.4. Set the value of `n_init` explicitly to suppress the warning\n",
      "  warnings.warn(\n"
     ]
    }
   ],
   "source": [
    "for i in range(len(data)):\n",
    "    ks[i].fit(data.iloc[i].values.reshape(-1, 1))"
   ],
   "metadata": {
    "collapsed": false
   }
  },
  {
   "cell_type": "code",
   "execution_count": 14,
   "outputs": [],
   "source": [
    "ls = []\n",
    "for i in range(len(ks)):\n",
    "    k = ks[i]\n",
    "    kc = k.cluster_centers_\n",
    "    y = k.labels_\n",
    "    kc_list = sorted([i for i in kc[:, 0]])\n",
    "\n",
    "    def my(x):\n",
    "        if x == kc_list[0]:\n",
    "            return \"差\"\n",
    "        elif x == kc_list[1]:\n",
    "            return \"中\"\n",
    "        elif x == kc_list[2]:\n",
    "            return \"良\"\n",
    "        else:\n",
    "            return \"优\"\n",
    "\n",
    "    data.iloc[i] = [my(x) for x in kc[y]]"
   ],
   "metadata": {
    "collapsed": false
   }
  },
  {
   "cell_type": "code",
   "execution_count": 15,
   "outputs": [
    {
     "data": {
      "text/plain": "       713 714 715 716 717 718 719 720 721 722 723 724 725 726\n概率       优   良   良   差   良   良   差   优   良   差   良   中   差   中\n实数       良   良   良   良   良   中   优   中   良   中   优   中   良   优\n不等式      优   优   差   差   优   优   差   差   优   优   优   差   优   差\n三角函数     差   差   差   优   优   差   差   差   优   差   优   优   优   差\n分式       差   差   优   优   差   差   差   差   优   优   差   优   优   优\n四边形      优   优   优   优   优   差   差   差   差   优   优   优   优   差\n一次函数     中   良   中   优   良   中   良   良   中   优   良   良   中   中\n轴对称      中   优   良   中   优   差   优   良   中   良   良   差   中   优\n一元二次方程   优   差   差   差   优   差   差   优   优   差   差   差   优   差\n二次函数     中   良   优   良   良   中   中   良   优   优   中   良   优   良\n二元一次方程   良   中   差   差   中   中   优   良   优   中   优   优   中   中",
      "text/html": "<div>\n<style scoped>\n    .dataframe tbody tr th:only-of-type {\n        vertical-align: middle;\n    }\n\n    .dataframe tbody tr th {\n        vertical-align: top;\n    }\n\n    .dataframe thead th {\n        text-align: right;\n    }\n</style>\n<table border=\"1\" class=\"dataframe\">\n  <thead>\n    <tr style=\"text-align: right;\">\n      <th></th>\n      <th>713</th>\n      <th>714</th>\n      <th>715</th>\n      <th>716</th>\n      <th>717</th>\n      <th>718</th>\n      <th>719</th>\n      <th>720</th>\n      <th>721</th>\n      <th>722</th>\n      <th>723</th>\n      <th>724</th>\n      <th>725</th>\n      <th>726</th>\n    </tr>\n  </thead>\n  <tbody>\n    <tr>\n      <th>概率</th>\n      <td>优</td>\n      <td>良</td>\n      <td>良</td>\n      <td>差</td>\n      <td>良</td>\n      <td>良</td>\n      <td>差</td>\n      <td>优</td>\n      <td>良</td>\n      <td>差</td>\n      <td>良</td>\n      <td>中</td>\n      <td>差</td>\n      <td>中</td>\n    </tr>\n    <tr>\n      <th>实数</th>\n      <td>良</td>\n      <td>良</td>\n      <td>良</td>\n      <td>良</td>\n      <td>良</td>\n      <td>中</td>\n      <td>优</td>\n      <td>中</td>\n      <td>良</td>\n      <td>中</td>\n      <td>优</td>\n      <td>中</td>\n      <td>良</td>\n      <td>优</td>\n    </tr>\n    <tr>\n      <th>不等式</th>\n      <td>优</td>\n      <td>优</td>\n      <td>差</td>\n      <td>差</td>\n      <td>优</td>\n      <td>优</td>\n      <td>差</td>\n      <td>差</td>\n      <td>优</td>\n      <td>优</td>\n      <td>优</td>\n      <td>差</td>\n      <td>优</td>\n      <td>差</td>\n    </tr>\n    <tr>\n      <th>三角函数</th>\n      <td>差</td>\n      <td>差</td>\n      <td>差</td>\n      <td>优</td>\n      <td>优</td>\n      <td>差</td>\n      <td>差</td>\n      <td>差</td>\n      <td>优</td>\n      <td>差</td>\n      <td>优</td>\n      <td>优</td>\n      <td>优</td>\n      <td>差</td>\n    </tr>\n    <tr>\n      <th>分式</th>\n      <td>差</td>\n      <td>差</td>\n      <td>优</td>\n      <td>优</td>\n      <td>差</td>\n      <td>差</td>\n      <td>差</td>\n      <td>差</td>\n      <td>优</td>\n      <td>优</td>\n      <td>差</td>\n      <td>优</td>\n      <td>优</td>\n      <td>优</td>\n    </tr>\n    <tr>\n      <th>四边形</th>\n      <td>优</td>\n      <td>优</td>\n      <td>优</td>\n      <td>优</td>\n      <td>优</td>\n      <td>差</td>\n      <td>差</td>\n      <td>差</td>\n      <td>差</td>\n      <td>优</td>\n      <td>优</td>\n      <td>优</td>\n      <td>优</td>\n      <td>差</td>\n    </tr>\n    <tr>\n      <th>一次函数</th>\n      <td>中</td>\n      <td>良</td>\n      <td>中</td>\n      <td>优</td>\n      <td>良</td>\n      <td>中</td>\n      <td>良</td>\n      <td>良</td>\n      <td>中</td>\n      <td>优</td>\n      <td>良</td>\n      <td>良</td>\n      <td>中</td>\n      <td>中</td>\n    </tr>\n    <tr>\n      <th>轴对称</th>\n      <td>中</td>\n      <td>优</td>\n      <td>良</td>\n      <td>中</td>\n      <td>优</td>\n      <td>差</td>\n      <td>优</td>\n      <td>良</td>\n      <td>中</td>\n      <td>良</td>\n      <td>良</td>\n      <td>差</td>\n      <td>中</td>\n      <td>优</td>\n    </tr>\n    <tr>\n      <th>一元二次方程</th>\n      <td>优</td>\n      <td>差</td>\n      <td>差</td>\n      <td>差</td>\n      <td>优</td>\n      <td>差</td>\n      <td>差</td>\n      <td>优</td>\n      <td>优</td>\n      <td>差</td>\n      <td>差</td>\n      <td>差</td>\n      <td>优</td>\n      <td>差</td>\n    </tr>\n    <tr>\n      <th>二次函数</th>\n      <td>中</td>\n      <td>良</td>\n      <td>优</td>\n      <td>良</td>\n      <td>良</td>\n      <td>中</td>\n      <td>中</td>\n      <td>良</td>\n      <td>优</td>\n      <td>优</td>\n      <td>中</td>\n      <td>良</td>\n      <td>优</td>\n      <td>良</td>\n    </tr>\n    <tr>\n      <th>二元一次方程</th>\n      <td>良</td>\n      <td>中</td>\n      <td>差</td>\n      <td>差</td>\n      <td>中</td>\n      <td>中</td>\n      <td>优</td>\n      <td>良</td>\n      <td>优</td>\n      <td>中</td>\n      <td>优</td>\n      <td>优</td>\n      <td>中</td>\n      <td>中</td>\n    </tr>\n  </tbody>\n</table>\n</div>"
     },
     "execution_count": 15,
     "metadata": {},
     "output_type": "execute_result"
    }
   ],
   "source": [
    "data.T"
   ],
   "metadata": {
    "collapsed": false
   }
  },
  {
   "cell_type": "code",
   "execution_count": 30,
   "outputs": [
    {
     "data": {
      "text/plain": "    概率 实数 不等式 三角函数 分式 四边形 一次函数 轴对称 一元二次方程 二次函数 二元一次方程\n713  优  良   优    差  差   优    中   中      优    中      良\n714  良  良   优    差  差   优    良   优      差    良      中\n715  良  良   差    差  优   优    中   良      差    优      差\n716  差  良   差    优  优   优    优   中      差    良      差\n717  良  良   优    优  差   优    良   优      优    良      中\n718  良  中   优    差  差   差    中   差      差    中      中\n719  差  优   差    差  差   差    良   优      差    中      优\n720  优  中   差    差  差   差    良   良      优    良      良\n721  良  良   优    优  优   差    中   中      优    优      优\n722  差  中   优    差  优   优    优   良      差    优      中\n723  良  优   优    优  差   优    良   良      差    中      优\n724  中  中   差    优  优   优    良   差      差    良      优\n725  差  良   优    优  优   优    中   中      优    优      中\n726  中  优   差    差  优   差    中   优      差    良      中",
      "text/html": "<div>\n<style scoped>\n    .dataframe tbody tr th:only-of-type {\n        vertical-align: middle;\n    }\n\n    .dataframe tbody tr th {\n        vertical-align: top;\n    }\n\n    .dataframe thead th {\n        text-align: right;\n    }\n</style>\n<table border=\"1\" class=\"dataframe\">\n  <thead>\n    <tr style=\"text-align: right;\">\n      <th></th>\n      <th>概率</th>\n      <th>实数</th>\n      <th>不等式</th>\n      <th>三角函数</th>\n      <th>分式</th>\n      <th>四边形</th>\n      <th>一次函数</th>\n      <th>轴对称</th>\n      <th>一元二次方程</th>\n      <th>二次函数</th>\n      <th>二元一次方程</th>\n    </tr>\n  </thead>\n  <tbody>\n    <tr>\n      <th>713</th>\n      <td>优</td>\n      <td>良</td>\n      <td>优</td>\n      <td>差</td>\n      <td>差</td>\n      <td>优</td>\n      <td>中</td>\n      <td>中</td>\n      <td>优</td>\n      <td>中</td>\n      <td>良</td>\n    </tr>\n    <tr>\n      <th>714</th>\n      <td>良</td>\n      <td>良</td>\n      <td>优</td>\n      <td>差</td>\n      <td>差</td>\n      <td>优</td>\n      <td>良</td>\n      <td>优</td>\n      <td>差</td>\n      <td>良</td>\n      <td>中</td>\n    </tr>\n    <tr>\n      <th>715</th>\n      <td>良</td>\n      <td>良</td>\n      <td>差</td>\n      <td>差</td>\n      <td>优</td>\n      <td>优</td>\n      <td>中</td>\n      <td>良</td>\n      <td>差</td>\n      <td>优</td>\n      <td>差</td>\n    </tr>\n    <tr>\n      <th>716</th>\n      <td>差</td>\n      <td>良</td>\n      <td>差</td>\n      <td>优</td>\n      <td>优</td>\n      <td>优</td>\n      <td>优</td>\n      <td>中</td>\n      <td>差</td>\n      <td>良</td>\n      <td>差</td>\n    </tr>\n    <tr>\n      <th>717</th>\n      <td>良</td>\n      <td>良</td>\n      <td>优</td>\n      <td>优</td>\n      <td>差</td>\n      <td>优</td>\n      <td>良</td>\n      <td>优</td>\n      <td>优</td>\n      <td>良</td>\n      <td>中</td>\n    </tr>\n    <tr>\n      <th>718</th>\n      <td>良</td>\n      <td>中</td>\n      <td>优</td>\n      <td>差</td>\n      <td>差</td>\n      <td>差</td>\n      <td>中</td>\n      <td>差</td>\n      <td>差</td>\n      <td>中</td>\n      <td>中</td>\n    </tr>\n    <tr>\n      <th>719</th>\n      <td>差</td>\n      <td>优</td>\n      <td>差</td>\n      <td>差</td>\n      <td>差</td>\n      <td>差</td>\n      <td>良</td>\n      <td>优</td>\n      <td>差</td>\n      <td>中</td>\n      <td>优</td>\n    </tr>\n    <tr>\n      <th>720</th>\n      <td>优</td>\n      <td>中</td>\n      <td>差</td>\n      <td>差</td>\n      <td>差</td>\n      <td>差</td>\n      <td>良</td>\n      <td>良</td>\n      <td>优</td>\n      <td>良</td>\n      <td>良</td>\n    </tr>\n    <tr>\n      <th>721</th>\n      <td>良</td>\n      <td>良</td>\n      <td>优</td>\n      <td>优</td>\n      <td>优</td>\n      <td>差</td>\n      <td>中</td>\n      <td>中</td>\n      <td>优</td>\n      <td>优</td>\n      <td>优</td>\n    </tr>\n    <tr>\n      <th>722</th>\n      <td>差</td>\n      <td>中</td>\n      <td>优</td>\n      <td>差</td>\n      <td>优</td>\n      <td>优</td>\n      <td>优</td>\n      <td>良</td>\n      <td>差</td>\n      <td>优</td>\n      <td>中</td>\n    </tr>\n    <tr>\n      <th>723</th>\n      <td>良</td>\n      <td>优</td>\n      <td>优</td>\n      <td>优</td>\n      <td>差</td>\n      <td>优</td>\n      <td>良</td>\n      <td>良</td>\n      <td>差</td>\n      <td>中</td>\n      <td>优</td>\n    </tr>\n    <tr>\n      <th>724</th>\n      <td>中</td>\n      <td>中</td>\n      <td>差</td>\n      <td>优</td>\n      <td>优</td>\n      <td>优</td>\n      <td>良</td>\n      <td>差</td>\n      <td>差</td>\n      <td>良</td>\n      <td>优</td>\n    </tr>\n    <tr>\n      <th>725</th>\n      <td>差</td>\n      <td>良</td>\n      <td>优</td>\n      <td>优</td>\n      <td>优</td>\n      <td>优</td>\n      <td>中</td>\n      <td>中</td>\n      <td>优</td>\n      <td>优</td>\n      <td>中</td>\n    </tr>\n    <tr>\n      <th>726</th>\n      <td>中</td>\n      <td>优</td>\n      <td>差</td>\n      <td>差</td>\n      <td>优</td>\n      <td>差</td>\n      <td>中</td>\n      <td>优</td>\n      <td>差</td>\n      <td>良</td>\n      <td>中</td>\n    </tr>\n  </tbody>\n</table>\n</div>"
     },
     "execution_count": 30,
     "metadata": {},
     "output_type": "execute_result"
    }
   ],
   "source": [
    "data"
   ],
   "metadata": {
    "collapsed": false
   }
  },
  {
   "cell_type": "code",
   "execution_count": 32,
   "outputs": [],
   "source": [
    "d = data.T.to_dict()"
   ],
   "metadata": {
    "collapsed": false
   }
  },
  {
   "cell_type": "code",
   "execution_count": 36,
   "outputs": [
    {
     "data": {
      "text/plain": "{713: {'概率': '优',\n  '实数': '良',\n  '不等式': '优',\n  '三角函数': '差',\n  '分式': '差',\n  '四边形': '优',\n  '一次函数': '中',\n  '轴对称': '中',\n  '一元二次方程': '优',\n  '二次函数': '中',\n  '二元一次方程': '良'},\n 714: {'概率': '良',\n  '实数': '良',\n  '不等式': '优',\n  '三角函数': '差',\n  '分式': '差',\n  '四边形': '优',\n  '一次函数': '良',\n  '轴对称': '优',\n  '一元二次方程': '差',\n  '二次函数': '良',\n  '二元一次方程': '中'},\n 715: {'概率': '良',\n  '实数': '良',\n  '不等式': '差',\n  '三角函数': '差',\n  '分式': '优',\n  '四边形': '优',\n  '一次函数': '中',\n  '轴对称': '良',\n  '一元二次方程': '差',\n  '二次函数': '优',\n  '二元一次方程': '差'},\n 716: {'概率': '差',\n  '实数': '良',\n  '不等式': '差',\n  '三角函数': '优',\n  '分式': '优',\n  '四边形': '优',\n  '一次函数': '优',\n  '轴对称': '中',\n  '一元二次方程': '差',\n  '二次函数': '良',\n  '二元一次方程': '差'},\n 717: {'概率': '良',\n  '实数': '良',\n  '不等式': '优',\n  '三角函数': '优',\n  '分式': '差',\n  '四边形': '优',\n  '一次函数': '良',\n  '轴对称': '优',\n  '一元二次方程': '优',\n  '二次函数': '良',\n  '二元一次方程': '中'},\n 718: {'概率': '良',\n  '实数': '中',\n  '不等式': '优',\n  '三角函数': '差',\n  '分式': '差',\n  '四边形': '差',\n  '一次函数': '中',\n  '轴对称': '差',\n  '一元二次方程': '差',\n  '二次函数': '中',\n  '二元一次方程': '中'},\n 719: {'概率': '差',\n  '实数': '优',\n  '不等式': '差',\n  '三角函数': '差',\n  '分式': '差',\n  '四边形': '差',\n  '一次函数': '良',\n  '轴对称': '优',\n  '一元二次方程': '差',\n  '二次函数': '中',\n  '二元一次方程': '优'},\n 720: {'概率': '优',\n  '实数': '中',\n  '不等式': '差',\n  '三角函数': '差',\n  '分式': '差',\n  '四边形': '差',\n  '一次函数': '良',\n  '轴对称': '良',\n  '一元二次方程': '优',\n  '二次函数': '良',\n  '二元一次方程': '良'},\n 721: {'概率': '良',\n  '实数': '良',\n  '不等式': '优',\n  '三角函数': '优',\n  '分式': '优',\n  '四边形': '差',\n  '一次函数': '中',\n  '轴对称': '中',\n  '一元二次方程': '优',\n  '二次函数': '优',\n  '二元一次方程': '优'},\n 722: {'概率': '差',\n  '实数': '中',\n  '不等式': '优',\n  '三角函数': '差',\n  '分式': '优',\n  '四边形': '优',\n  '一次函数': '优',\n  '轴对称': '良',\n  '一元二次方程': '差',\n  '二次函数': '优',\n  '二元一次方程': '中'},\n 723: {'概率': '良',\n  '实数': '优',\n  '不等式': '优',\n  '三角函数': '优',\n  '分式': '差',\n  '四边形': '优',\n  '一次函数': '良',\n  '轴对称': '良',\n  '一元二次方程': '差',\n  '二次函数': '中',\n  '二元一次方程': '优'},\n 724: {'概率': '中',\n  '实数': '中',\n  '不等式': '差',\n  '三角函数': '优',\n  '分式': '优',\n  '四边形': '优',\n  '一次函数': '良',\n  '轴对称': '差',\n  '一元二次方程': '差',\n  '二次函数': '良',\n  '二元一次方程': '优'},\n 725: {'概率': '差',\n  '实数': '良',\n  '不等式': '优',\n  '三角函数': '优',\n  '分式': '优',\n  '四边形': '优',\n  '一次函数': '中',\n  '轴对称': '中',\n  '一元二次方程': '优',\n  '二次函数': '优',\n  '二元一次方程': '中'},\n 726: {'概率': '中',\n  '实数': '优',\n  '不等式': '差',\n  '三角函数': '差',\n  '分式': '优',\n  '四边形': '差',\n  '一次函数': '中',\n  '轴对称': '优',\n  '一元二次方程': '差',\n  '二次函数': '良',\n  '二元一次方程': '中'}}"
     },
     "execution_count": 36,
     "metadata": {},
     "output_type": "execute_result"
    }
   ],
   "source": [
    "d"
   ],
   "metadata": {
    "collapsed": false
   }
  },
  {
   "cell_type": "code",
   "execution_count": 42,
   "outputs": [
    {
     "data": {
      "text/plain": "[{'exam_id': 2,\n  'stu_id': 713,\n  'know_point_situation': [{'know_point': '概率', 'level': '优'},\n   {'know_point': '实数', 'level': '良'},\n   {'know_point': '不等式', 'level': '优'},\n   {'know_point': '三角函数', 'level': '差'},\n   {'know_point': '分式', 'level': '差'},\n   {'know_point': '四边形', 'level': '优'},\n   {'know_point': '一次函数', 'level': '中'},\n   {'know_point': '轴对称', 'level': '中'},\n   {'know_point': '一元二次方程', 'level': '优'},\n   {'know_point': '二次函数', 'level': '中'},\n   {'know_point': '二元一次方程', 'level': '良'}]},\n {'exam_id': 2,\n  'stu_id': 714,\n  'know_point_situation': [{'know_point': '概率', 'level': '良'},\n   {'know_point': '实数', 'level': '良'},\n   {'know_point': '不等式', 'level': '优'},\n   {'know_point': '三角函数', 'level': '差'},\n   {'know_point': '分式', 'level': '差'},\n   {'know_point': '四边形', 'level': '优'},\n   {'know_point': '一次函数', 'level': '良'},\n   {'know_point': '轴对称', 'level': '优'},\n   {'know_point': '一元二次方程', 'level': '差'},\n   {'know_point': '二次函数', 'level': '良'},\n   {'know_point': '二元一次方程', 'level': '中'}]},\n {'exam_id': 2,\n  'stu_id': 715,\n  'know_point_situation': [{'know_point': '概率', 'level': '良'},\n   {'know_point': '实数', 'level': '良'},\n   {'know_point': '不等式', 'level': '差'},\n   {'know_point': '三角函数', 'level': '差'},\n   {'know_point': '分式', 'level': '优'},\n   {'know_point': '四边形', 'level': '优'},\n   {'know_point': '一次函数', 'level': '中'},\n   {'know_point': '轴对称', 'level': '良'},\n   {'know_point': '一元二次方程', 'level': '差'},\n   {'know_point': '二次函数', 'level': '优'},\n   {'know_point': '二元一次方程', 'level': '差'}]},\n {'exam_id': 2,\n  'stu_id': 716,\n  'know_point_situation': [{'know_point': '概率', 'level': '差'},\n   {'know_point': '实数', 'level': '良'},\n   {'know_point': '不等式', 'level': '差'},\n   {'know_point': '三角函数', 'level': '优'},\n   {'know_point': '分式', 'level': '优'},\n   {'know_point': '四边形', 'level': '优'},\n   {'know_point': '一次函数', 'level': '优'},\n   {'know_point': '轴对称', 'level': '中'},\n   {'know_point': '一元二次方程', 'level': '差'},\n   {'know_point': '二次函数', 'level': '良'},\n   {'know_point': '二元一次方程', 'level': '差'}]},\n {'exam_id': 2,\n  'stu_id': 717,\n  'know_point_situation': [{'know_point': '概率', 'level': '良'},\n   {'know_point': '实数', 'level': '良'},\n   {'know_point': '不等式', 'level': '优'},\n   {'know_point': '三角函数', 'level': '优'},\n   {'know_point': '分式', 'level': '差'},\n   {'know_point': '四边形', 'level': '优'},\n   {'know_point': '一次函数', 'level': '良'},\n   {'know_point': '轴对称', 'level': '优'},\n   {'know_point': '一元二次方程', 'level': '优'},\n   {'know_point': '二次函数', 'level': '良'},\n   {'know_point': '二元一次方程', 'level': '中'}]},\n {'exam_id': 2,\n  'stu_id': 718,\n  'know_point_situation': [{'know_point': '概率', 'level': '良'},\n   {'know_point': '实数', 'level': '中'},\n   {'know_point': '不等式', 'level': '优'},\n   {'know_point': '三角函数', 'level': '差'},\n   {'know_point': '分式', 'level': '差'},\n   {'know_point': '四边形', 'level': '差'},\n   {'know_point': '一次函数', 'level': '中'},\n   {'know_point': '轴对称', 'level': '差'},\n   {'know_point': '一元二次方程', 'level': '差'},\n   {'know_point': '二次函数', 'level': '中'},\n   {'know_point': '二元一次方程', 'level': '中'}]},\n {'exam_id': 2,\n  'stu_id': 719,\n  'know_point_situation': [{'know_point': '概率', 'level': '差'},\n   {'know_point': '实数', 'level': '优'},\n   {'know_point': '不等式', 'level': '差'},\n   {'know_point': '三角函数', 'level': '差'},\n   {'know_point': '分式', 'level': '差'},\n   {'know_point': '四边形', 'level': '差'},\n   {'know_point': '一次函数', 'level': '良'},\n   {'know_point': '轴对称', 'level': '优'},\n   {'know_point': '一元二次方程', 'level': '差'},\n   {'know_point': '二次函数', 'level': '中'},\n   {'know_point': '二元一次方程', 'level': '优'}]},\n {'exam_id': 2,\n  'stu_id': 720,\n  'know_point_situation': [{'know_point': '概率', 'level': '优'},\n   {'know_point': '实数', 'level': '中'},\n   {'know_point': '不等式', 'level': '差'},\n   {'know_point': '三角函数', 'level': '差'},\n   {'know_point': '分式', 'level': '差'},\n   {'know_point': '四边形', 'level': '差'},\n   {'know_point': '一次函数', 'level': '良'},\n   {'know_point': '轴对称', 'level': '良'},\n   {'know_point': '一元二次方程', 'level': '优'},\n   {'know_point': '二次函数', 'level': '良'},\n   {'know_point': '二元一次方程', 'level': '良'}]},\n {'exam_id': 2,\n  'stu_id': 721,\n  'know_point_situation': [{'know_point': '概率', 'level': '良'},\n   {'know_point': '实数', 'level': '良'},\n   {'know_point': '不等式', 'level': '优'},\n   {'know_point': '三角函数', 'level': '优'},\n   {'know_point': '分式', 'level': '优'},\n   {'know_point': '四边形', 'level': '差'},\n   {'know_point': '一次函数', 'level': '中'},\n   {'know_point': '轴对称', 'level': '中'},\n   {'know_point': '一元二次方程', 'level': '优'},\n   {'know_point': '二次函数', 'level': '优'},\n   {'know_point': '二元一次方程', 'level': '优'}]},\n {'exam_id': 2,\n  'stu_id': 722,\n  'know_point_situation': [{'know_point': '概率', 'level': '差'},\n   {'know_point': '实数', 'level': '中'},\n   {'know_point': '不等式', 'level': '优'},\n   {'know_point': '三角函数', 'level': '差'},\n   {'know_point': '分式', 'level': '优'},\n   {'know_point': '四边形', 'level': '优'},\n   {'know_point': '一次函数', 'level': '优'},\n   {'know_point': '轴对称', 'level': '良'},\n   {'know_point': '一元二次方程', 'level': '差'},\n   {'know_point': '二次函数', 'level': '优'},\n   {'know_point': '二元一次方程', 'level': '中'}]},\n {'exam_id': 2,\n  'stu_id': 723,\n  'know_point_situation': [{'know_point': '概率', 'level': '良'},\n   {'know_point': '实数', 'level': '优'},\n   {'know_point': '不等式', 'level': '优'},\n   {'know_point': '三角函数', 'level': '优'},\n   {'know_point': '分式', 'level': '差'},\n   {'know_point': '四边形', 'level': '优'},\n   {'know_point': '一次函数', 'level': '良'},\n   {'know_point': '轴对称', 'level': '良'},\n   {'know_point': '一元二次方程', 'level': '差'},\n   {'know_point': '二次函数', 'level': '中'},\n   {'know_point': '二元一次方程', 'level': '优'}]},\n {'exam_id': 2,\n  'stu_id': 724,\n  'know_point_situation': [{'know_point': '概率', 'level': '中'},\n   {'know_point': '实数', 'level': '中'},\n   {'know_point': '不等式', 'level': '差'},\n   {'know_point': '三角函数', 'level': '优'},\n   {'know_point': '分式', 'level': '优'},\n   {'know_point': '四边形', 'level': '优'},\n   {'know_point': '一次函数', 'level': '良'},\n   {'know_point': '轴对称', 'level': '差'},\n   {'know_point': '一元二次方程', 'level': '差'},\n   {'know_point': '二次函数', 'level': '良'},\n   {'know_point': '二元一次方程', 'level': '优'}]},\n {'exam_id': 2,\n  'stu_id': 725,\n  'know_point_situation': [{'know_point': '概率', 'level': '差'},\n   {'know_point': '实数', 'level': '良'},\n   {'know_point': '不等式', 'level': '优'},\n   {'know_point': '三角函数', 'level': '优'},\n   {'know_point': '分式', 'level': '优'},\n   {'know_point': '四边形', 'level': '优'},\n   {'know_point': '一次函数', 'level': '中'},\n   {'know_point': '轴对称', 'level': '中'},\n   {'know_point': '一元二次方程', 'level': '优'},\n   {'know_point': '二次函数', 'level': '优'},\n   {'know_point': '二元一次方程', 'level': '中'}]},\n {'exam_id': 2,\n  'stu_id': 726,\n  'know_point_situation': [{'know_point': '概率', 'level': '中'},\n   {'know_point': '实数', 'level': '优'},\n   {'know_point': '不等式', 'level': '差'},\n   {'know_point': '三角函数', 'level': '差'},\n   {'know_point': '分式', 'level': '优'},\n   {'know_point': '四边形', 'level': '差'},\n   {'know_point': '一次函数', 'level': '中'},\n   {'know_point': '轴对称', 'level': '优'},\n   {'know_point': '一元二次方程', 'level': '差'},\n   {'know_point': '二次函数', 'level': '良'},\n   {'know_point': '二元一次方程', 'level': '中'}]}]"
     },
     "execution_count": 42,
     "metadata": {},
     "output_type": "execute_result"
    }
   ],
   "source": [
    "dic_lst = []\n",
    "for key, value in d.items():\n",
    "    vl = []\n",
    "    for k, v in value.items():\n",
    "        vl.append(\n",
    "            {\n",
    "                'know_point': k,\n",
    "                'level':v,\n",
    "            }\n",
    "        )\n",
    "    dic_lst.append({\n",
    "            'exam_id'             : 2,\n",
    "            'stu_id'              : key,\n",
    "            'know_point_situation': vl\n",
    "        })\n",
    "dic_lst"
   ],
   "metadata": {
    "collapsed": false
   }
  },
  {
   "cell_type": "code",
   "execution_count": 41,
   "outputs": [
    {
     "data": {
      "text/plain": "[{'exam_id': 2,\n  'stu_id': '713',\n  'know_point_situation': [{'know_point': '概率', 'level': '优'},\n   {'know_point': '实数', 'level': '良'},\n   {'know_point': '不等式', 'level': '优'},\n   {'know_point': '三角函数', 'level': '差'},\n   {'know_point': '分式', 'level': '差'},\n   {'know_point': '四边形', 'level': '优'},\n   {'know_point': '一次函数', 'level': '中'},\n   {'know_point': '轴对称', 'level': '中'},\n   {'know_point': '一元二次方程', 'level': '优'},\n   {'know_point': '二次函数', 'level': '中'},\n   {'know_point': '二元一次方程', 'level': '良'}]},\n {'exam_id': 2,\n  'stu_id': '714',\n  'know_point_situation': [{'know_point': '概率', 'level': '良'},\n   {'know_point': '实数', 'level': '良'},\n   {'know_point': '不等式', 'level': '优'},\n   {'know_point': '三角函数', 'level': '差'},\n   {'know_point': '分式', 'level': '差'},\n   {'know_point': '四边形', 'level': '优'},\n   {'know_point': '一次函数', 'level': '良'},\n   {'know_point': '轴对称', 'level': '优'},\n   {'know_point': '一元二次方程', 'level': '差'},\n   {'know_point': '二次函数', 'level': '良'},\n   {'know_point': '二元一次方程', 'level': '中'}]},\n {'exam_id': 2,\n  'stu_id': '715',\n  'know_point_situation': [{'know_point': '概率', 'level': '良'},\n   {'know_point': '实数', 'level': '良'},\n   {'know_point': '不等式', 'level': '差'},\n   {'know_point': '三角函数', 'level': '差'},\n   {'know_point': '分式', 'level': '优'},\n   {'know_point': '四边形', 'level': '优'},\n   {'know_point': '一次函数', 'level': '中'},\n   {'know_point': '轴对称', 'level': '良'},\n   {'know_point': '一元二次方程', 'level': '差'},\n   {'know_point': '二次函数', 'level': '优'},\n   {'know_point': '二元一次方程', 'level': '差'}]},\n {'exam_id': 2,\n  'stu_id': '716',\n  'know_point_situation': [{'know_point': '概率', 'level': '差'},\n   {'know_point': '实数', 'level': '良'},\n   {'know_point': '不等式', 'level': '差'},\n   {'know_point': '三角函数', 'level': '优'},\n   {'know_point': '分式', 'level': '优'},\n   {'know_point': '四边形', 'level': '优'},\n   {'know_point': '一次函数', 'level': '优'},\n   {'know_point': '轴对称', 'level': '中'},\n   {'know_point': '一元二次方程', 'level': '差'},\n   {'know_point': '二次函数', 'level': '良'},\n   {'know_point': '二元一次方程', 'level': '差'}]},\n {'exam_id': 2,\n  'stu_id': '717',\n  'know_point_situation': [{'know_point': '概率', 'level': '良'},\n   {'know_point': '实数', 'level': '良'},\n   {'know_point': '不等式', 'level': '优'},\n   {'know_point': '三角函数', 'level': '优'},\n   {'know_point': '分式', 'level': '差'},\n   {'know_point': '四边形', 'level': '优'},\n   {'know_point': '一次函数', 'level': '良'},\n   {'know_point': '轴对称', 'level': '优'},\n   {'know_point': '一元二次方程', 'level': '优'},\n   {'know_point': '二次函数', 'level': '良'},\n   {'know_point': '二元一次方程', 'level': '中'}]},\n {'exam_id': 2,\n  'stu_id': '718',\n  'know_point_situation': [{'know_point': '概率', 'level': '良'},\n   {'know_point': '实数', 'level': '中'},\n   {'know_point': '不等式', 'level': '优'},\n   {'know_point': '三角函数', 'level': '差'},\n   {'know_point': '分式', 'level': '差'},\n   {'know_point': '四边形', 'level': '差'},\n   {'know_point': '一次函数', 'level': '中'},\n   {'know_point': '轴对称', 'level': '差'},\n   {'know_point': '一元二次方程', 'level': '差'},\n   {'know_point': '二次函数', 'level': '中'},\n   {'know_point': '二元一次方程', 'level': '中'}]},\n {'exam_id': 2,\n  'stu_id': '719',\n  'know_point_situation': [{'know_point': '概率', 'level': '差'},\n   {'know_point': '实数', 'level': '优'},\n   {'know_point': '不等式', 'level': '差'},\n   {'know_point': '三角函数', 'level': '差'},\n   {'know_point': '分式', 'level': '差'},\n   {'know_point': '四边形', 'level': '差'},\n   {'know_point': '一次函数', 'level': '良'},\n   {'know_point': '轴对称', 'level': '优'},\n   {'know_point': '一元二次方程', 'level': '差'},\n   {'know_point': '二次函数', 'level': '中'},\n   {'know_point': '二元一次方程', 'level': '优'}]},\n {'exam_id': 2,\n  'stu_id': '720',\n  'know_point_situation': [{'know_point': '概率', 'level': '优'},\n   {'know_point': '实数', 'level': '中'},\n   {'know_point': '不等式', 'level': '差'},\n   {'know_point': '三角函数', 'level': '差'},\n   {'know_point': '分式', 'level': '差'},\n   {'know_point': '四边形', 'level': '差'},\n   {'know_point': '一次函数', 'level': '良'},\n   {'know_point': '轴对称', 'level': '良'},\n   {'know_point': '一元二次方程', 'level': '优'},\n   {'know_point': '二次函数', 'level': '良'},\n   {'know_point': '二元一次方程', 'level': '良'}]},\n {'exam_id': 2,\n  'stu_id': '721',\n  'know_point_situation': [{'know_point': '概率', 'level': '良'},\n   {'know_point': '实数', 'level': '良'},\n   {'know_point': '不等式', 'level': '优'},\n   {'know_point': '三角函数', 'level': '优'},\n   {'know_point': '分式', 'level': '优'},\n   {'know_point': '四边形', 'level': '差'},\n   {'know_point': '一次函数', 'level': '中'},\n   {'know_point': '轴对称', 'level': '中'},\n   {'know_point': '一元二次方程', 'level': '优'},\n   {'know_point': '二次函数', 'level': '优'},\n   {'know_point': '二元一次方程', 'level': '优'}]},\n {'exam_id': 2,\n  'stu_id': '722',\n  'know_point_situation': [{'know_point': '概率', 'level': '差'},\n   {'know_point': '实数', 'level': '中'},\n   {'know_point': '不等式', 'level': '优'},\n   {'know_point': '三角函数', 'level': '差'},\n   {'know_point': '分式', 'level': '优'},\n   {'know_point': '四边形', 'level': '优'},\n   {'know_point': '一次函数', 'level': '优'},\n   {'know_point': '轴对称', 'level': '良'},\n   {'know_point': '一元二次方程', 'level': '差'},\n   {'know_point': '二次函数', 'level': '优'},\n   {'know_point': '二元一次方程', 'level': '中'}]},\n {'exam_id': 2,\n  'stu_id': '723',\n  'know_point_situation': [{'know_point': '概率', 'level': '良'},\n   {'know_point': '实数', 'level': '优'},\n   {'know_point': '不等式', 'level': '优'},\n   {'know_point': '三角函数', 'level': '优'},\n   {'know_point': '分式', 'level': '差'},\n   {'know_point': '四边形', 'level': '优'},\n   {'know_point': '一次函数', 'level': '良'},\n   {'know_point': '轴对称', 'level': '良'},\n   {'know_point': '一元二次方程', 'level': '差'},\n   {'know_point': '二次函数', 'level': '中'},\n   {'know_point': '二元一次方程', 'level': '优'}]},\n {'exam_id': 2,\n  'stu_id': '724',\n  'know_point_situation': [{'know_point': '概率', 'level': '中'},\n   {'know_point': '实数', 'level': '中'},\n   {'know_point': '不等式', 'level': '差'},\n   {'know_point': '三角函数', 'level': '优'},\n   {'know_point': '分式', 'level': '优'},\n   {'know_point': '四边形', 'level': '优'},\n   {'know_point': '一次函数', 'level': '良'},\n   {'know_point': '轴对称', 'level': '差'},\n   {'know_point': '一元二次方程', 'level': '差'},\n   {'know_point': '二次函数', 'level': '良'},\n   {'know_point': '二元一次方程', 'level': '优'}]},\n {'exam_id': 2,\n  'stu_id': '725',\n  'know_point_situation': [{'know_point': '概率', 'level': '差'},\n   {'know_point': '实数', 'level': '良'},\n   {'know_point': '不等式', 'level': '优'},\n   {'know_point': '三角函数', 'level': '优'},\n   {'know_point': '分式', 'level': '优'},\n   {'know_point': '四边形', 'level': '优'},\n   {'know_point': '一次函数', 'level': '中'},\n   {'know_point': '轴对称', 'level': '中'},\n   {'know_point': '一元二次方程', 'level': '优'},\n   {'know_point': '二次函数', 'level': '优'},\n   {'know_point': '二元一次方程', 'level': '中'}]},\n {'exam_id': 2,\n  'stu_id': '726',\n  'know_point_situation': [{'know_point': '概率', 'level': '中'},\n   {'know_point': '实数', 'level': '优'},\n   {'know_point': '不等式', 'level': '差'},\n   {'know_point': '三角函数', 'level': '差'},\n   {'know_point': '分式', 'level': '优'},\n   {'know_point': '四边形', 'level': '差'},\n   {'know_point': '一次函数', 'level': '中'},\n   {'know_point': '轴对称', 'level': '优'},\n   {'know_point': '一元二次方程', 'level': '差'},\n   {'know_point': '二次函数', 'level': '良'},\n   {'know_point': '二元一次方程', 'level': '中'}]}]"
     },
     "execution_count": 41,
     "metadata": {},
     "output_type": "execute_result"
    }
   ],
   "source": [],
   "metadata": {
    "collapsed": false
   }
  },
  {
   "cell_type": "code",
   "execution_count": 21,
   "outputs": [],
   "source": [
    "dic_lst = [{\n",
    "    'name' : str(i),\n",
    "    'score': ori_dic[i]\n",
    "}\n",
    "    for i in ori_dic]\n",
    "dic = {'exam_id' : examination_id,\n",
    "       'students': dic_lst}"
   ],
   "metadata": {
    "collapsed": false
   }
  },
  {
   "cell_type": "code",
   "execution_count": 22,
   "outputs": [
    {
     "data": {
      "text/plain": "{'概率': {713: '优',\n  714: '良',\n  715: '良',\n  716: '差',\n  717: '良',\n  718: '良',\n  719: '差',\n  720: '优',\n  721: '良',\n  722: '差',\n  723: '良',\n  724: '中',\n  725: '差',\n  726: '中'},\n '实数': {713: '良',\n  714: '良',\n  715: '良',\n  716: '良',\n  717: '良',\n  718: '中',\n  719: '优',\n  720: '中',\n  721: '良',\n  722: '中',\n  723: '优',\n  724: '中',\n  725: '良',\n  726: '优'},\n '不等式': {713: '优',\n  714: '优',\n  715: '差',\n  716: '差',\n  717: '优',\n  718: '优',\n  719: '差',\n  720: '差',\n  721: '优',\n  722: '优',\n  723: '优',\n  724: '差',\n  725: '优',\n  726: '差'},\n '三角函数': {713: '差',\n  714: '差',\n  715: '差',\n  716: '优',\n  717: '优',\n  718: '差',\n  719: '差',\n  720: '差',\n  721: '优',\n  722: '差',\n  723: '优',\n  724: '优',\n  725: '优',\n  726: '差'},\n '分式': {713: '差',\n  714: '差',\n  715: '优',\n  716: '优',\n  717: '差',\n  718: '差',\n  719: '差',\n  720: '差',\n  721: '优',\n  722: '优',\n  723: '差',\n  724: '优',\n  725: '优',\n  726: '优'},\n '四边形': {713: '优',\n  714: '优',\n  715: '优',\n  716: '优',\n  717: '优',\n  718: '差',\n  719: '差',\n  720: '差',\n  721: '差',\n  722: '优',\n  723: '优',\n  724: '优',\n  725: '优',\n  726: '差'},\n '一次函数': {713: '中',\n  714: '良',\n  715: '中',\n  716: '优',\n  717: '良',\n  718: '中',\n  719: '良',\n  720: '良',\n  721: '中',\n  722: '优',\n  723: '良',\n  724: '良',\n  725: '中',\n  726: '中'},\n '轴对称': {713: '中',\n  714: '优',\n  715: '良',\n  716: '中',\n  717: '优',\n  718: '差',\n  719: '优',\n  720: '良',\n  721: '中',\n  722: '良',\n  723: '良',\n  724: '差',\n  725: '中',\n  726: '优'},\n '一元二次方程': {713: '优',\n  714: '差',\n  715: '差',\n  716: '差',\n  717: '优',\n  718: '差',\n  719: '差',\n  720: '优',\n  721: '优',\n  722: '差',\n  723: '差',\n  724: '差',\n  725: '优',\n  726: '差'},\n '二次函数': {713: '中',\n  714: '良',\n  715: '优',\n  716: '良',\n  717: '良',\n  718: '中',\n  719: '中',\n  720: '良',\n  721: '优',\n  722: '优',\n  723: '中',\n  724: '良',\n  725: '优',\n  726: '良'},\n '二元一次方程': {713: '良',\n  714: '中',\n  715: '差',\n  716: '差',\n  717: '中',\n  718: '中',\n  719: '优',\n  720: '良',\n  721: '优',\n  722: '中',\n  723: '优',\n  724: '优',\n  725: '中',\n  726: '中'}}"
     },
     "execution_count": 22,
     "metadata": {},
     "output_type": "execute_result"
    }
   ],
   "source": [
    "ori_dic"
   ],
   "metadata": {
    "collapsed": false
   }
  },
  {
   "cell_type": "code",
   "execution_count": 18,
   "outputs": [],
   "source": [
    "import pymongo\n",
    "\n",
    "myclient = pymongo.MongoClient(\"mongodb://localhost:27017/\")\n",
    "mydb = myclient[\"runoobdb\"]\n",
    "mycol = mydb[\"exam\"]"
   ],
   "metadata": {
    "collapsed": false
   }
  },
  {
   "cell_type": "code",
   "execution_count": 19,
   "outputs": [
    {
     "data": {
      "text/plain": "{'1': {'概率': {713: '优',\n   714: '良',\n   715: '良',\n   716: '差',\n   717: '良',\n   718: '良',\n   719: '差',\n   720: '优',\n   721: '良',\n   722: '差',\n   723: '良',\n   724: '中',\n   725: '差',\n   726: '中'},\n  '实数': {713: '良',\n   714: '良',\n   715: '良',\n   716: '良',\n   717: '良',\n   718: '中',\n   719: '优',\n   720: '中',\n   721: '良',\n   722: '中',\n   723: '优',\n   724: '中',\n   725: '良',\n   726: '优'},\n  '不等式': {713: '优',\n   714: '优',\n   715: '差',\n   716: '差',\n   717: '优',\n   718: '优',\n   719: '差',\n   720: '差',\n   721: '优',\n   722: '优',\n   723: '优',\n   724: '差',\n   725: '优',\n   726: '差'},\n  '三角函数': {713: '差',\n   714: '差',\n   715: '差',\n   716: '优',\n   717: '优',\n   718: '差',\n   719: '差',\n   720: '差',\n   721: '优',\n   722: '差',\n   723: '优',\n   724: '优',\n   725: '优',\n   726: '差'},\n  '分式': {713: '差',\n   714: '差',\n   715: '优',\n   716: '优',\n   717: '差',\n   718: '差',\n   719: '差',\n   720: '差',\n   721: '优',\n   722: '优',\n   723: '差',\n   724: '优',\n   725: '优',\n   726: '优'},\n  '四边形': {713: '优',\n   714: '优',\n   715: '优',\n   716: '优',\n   717: '优',\n   718: '差',\n   719: '差',\n   720: '差',\n   721: '差',\n   722: '优',\n   723: '优',\n   724: '优',\n   725: '优',\n   726: '差'},\n  '一次函数': {713: '中',\n   714: '良',\n   715: '中',\n   716: '优',\n   717: '良',\n   718: '中',\n   719: '良',\n   720: '良',\n   721: '中',\n   722: '优',\n   723: '良',\n   724: '良',\n   725: '中',\n   726: '中'},\n  '轴对称': {713: '中',\n   714: '优',\n   715: '良',\n   716: '中',\n   717: '优',\n   718: '差',\n   719: '优',\n   720: '良',\n   721: '中',\n   722: '良',\n   723: '良',\n   724: '差',\n   725: '中',\n   726: '优'},\n  '一元二次方程': {713: '优',\n   714: '差',\n   715: '差',\n   716: '差',\n   717: '优',\n   718: '差',\n   719: '差',\n   720: '优',\n   721: '优',\n   722: '差',\n   723: '差',\n   724: '差',\n   725: '优',\n   726: '差'},\n  '二次函数': {713: '中',\n   714: '良',\n   715: '优',\n   716: '良',\n   717: '良',\n   718: '中',\n   719: '中',\n   720: '良',\n   721: '优',\n   722: '优',\n   723: '中',\n   724: '良',\n   725: '优',\n   726: '良'},\n  '二元一次方程': {713: '良',\n   714: '中',\n   715: '差',\n   716: '差',\n   717: '中',\n   718: '中',\n   719: '优',\n   720: '良',\n   721: '优',\n   722: '中',\n   723: '优',\n   724: '优',\n   725: '中',\n   726: '中'}}}"
     },
     "execution_count": 19,
     "metadata": {},
     "output_type": "execute_result"
    }
   ],
   "source": [
    "date = {'1': data.to_dict()}\n",
    "date"
   ],
   "metadata": {
    "collapsed": false
   }
  },
  {
   "cell_type": "code",
   "execution_count": 20,
   "outputs": [
    {
     "ename": "InvalidDocument",
     "evalue": "documents must have only string keys, key was 713",
     "output_type": "error",
     "traceback": [
      "\u001B[1;31m---------------------------------------------------------------------------\u001B[0m",
      "\u001B[1;31mInvalidDocument\u001B[0m                           Traceback (most recent call last)",
      "Cell \u001B[1;32mIn[20], line 1\u001B[0m\n\u001B[1;32m----> 1\u001B[0m \u001B[43mmycol\u001B[49m\u001B[38;5;241;43m.\u001B[39;49m\u001B[43minsert_one\u001B[49m\u001B[43m(\u001B[49m\u001B[43mdate\u001B[49m\u001B[43m)\u001B[49m\n",
      "File \u001B[1;32mD:\\Programming\\python\\virt\\base\\python311\\Lib\\site-packages\\pymongo\\collection.py:628\u001B[0m, in \u001B[0;36mCollection.insert_one\u001B[1;34m(self, document, bypass_document_validation, session, comment)\u001B[0m\n\u001B[0;32m    624\u001B[0m     document[\u001B[38;5;124m\"\u001B[39m\u001B[38;5;124m_id\u001B[39m\u001B[38;5;124m\"\u001B[39m] \u001B[38;5;241m=\u001B[39m ObjectId()  \u001B[38;5;66;03m# type: ignore[index]\u001B[39;00m\n\u001B[0;32m    626\u001B[0m write_concern \u001B[38;5;241m=\u001B[39m \u001B[38;5;28mself\u001B[39m\u001B[38;5;241m.\u001B[39m_write_concern_for(session)\n\u001B[0;32m    627\u001B[0m \u001B[38;5;28;01mreturn\u001B[39;00m InsertOneResult(\n\u001B[1;32m--> 628\u001B[0m     \u001B[38;5;28;43mself\u001B[39;49m\u001B[38;5;241;43m.\u001B[39;49m\u001B[43m_insert_one\u001B[49m\u001B[43m(\u001B[49m\n\u001B[0;32m    629\u001B[0m \u001B[43m        \u001B[49m\u001B[43mdocument\u001B[49m\u001B[43m,\u001B[49m\n\u001B[0;32m    630\u001B[0m \u001B[43m        \u001B[49m\u001B[43mordered\u001B[49m\u001B[38;5;241;43m=\u001B[39;49m\u001B[38;5;28;43;01mTrue\u001B[39;49;00m\u001B[43m,\u001B[49m\n\u001B[0;32m    631\u001B[0m \u001B[43m        \u001B[49m\u001B[43mwrite_concern\u001B[49m\u001B[38;5;241;43m=\u001B[39;49m\u001B[43mwrite_concern\u001B[49m\u001B[43m,\u001B[49m\n\u001B[0;32m    632\u001B[0m \u001B[43m        \u001B[49m\u001B[43mop_id\u001B[49m\u001B[38;5;241;43m=\u001B[39;49m\u001B[38;5;28;43;01mNone\u001B[39;49;00m\u001B[43m,\u001B[49m\n\u001B[0;32m    633\u001B[0m \u001B[43m        \u001B[49m\u001B[43mbypass_doc_val\u001B[49m\u001B[38;5;241;43m=\u001B[39;49m\u001B[43mbypass_document_validation\u001B[49m\u001B[43m,\u001B[49m\n\u001B[0;32m    634\u001B[0m \u001B[43m        \u001B[49m\u001B[43msession\u001B[49m\u001B[38;5;241;43m=\u001B[39;49m\u001B[43msession\u001B[49m\u001B[43m,\u001B[49m\n\u001B[0;32m    635\u001B[0m \u001B[43m        \u001B[49m\u001B[43mcomment\u001B[49m\u001B[38;5;241;43m=\u001B[39;49m\u001B[43mcomment\u001B[49m\u001B[43m,\u001B[49m\n\u001B[0;32m    636\u001B[0m \u001B[43m    \u001B[49m\u001B[43m)\u001B[49m,\n\u001B[0;32m    637\u001B[0m     write_concern\u001B[38;5;241m.\u001B[39macknowledged,\n\u001B[0;32m    638\u001B[0m )\n",
      "File \u001B[1;32mD:\\Programming\\python\\virt\\base\\python311\\Lib\\site-packages\\pymongo\\collection.py:569\u001B[0m, in \u001B[0;36mCollection._insert_one\u001B[1;34m(self, doc, ordered, write_concern, op_id, bypass_doc_val, session, comment)\u001B[0m\n\u001B[0;32m    557\u001B[0m     result \u001B[38;5;241m=\u001B[39m sock_info\u001B[38;5;241m.\u001B[39mcommand(\n\u001B[0;32m    558\u001B[0m         \u001B[38;5;28mself\u001B[39m\u001B[38;5;241m.\u001B[39m__database\u001B[38;5;241m.\u001B[39mname,\n\u001B[0;32m    559\u001B[0m         command,\n\u001B[1;32m   (...)\u001B[0m\n\u001B[0;32m    564\u001B[0m         retryable_write\u001B[38;5;241m=\u001B[39mretryable_write,\n\u001B[0;32m    565\u001B[0m     )\n\u001B[0;32m    567\u001B[0m     _check_write_command_response(result)\n\u001B[1;32m--> 569\u001B[0m \u001B[38;5;28;43mself\u001B[39;49m\u001B[38;5;241;43m.\u001B[39;49m\u001B[43m__database\u001B[49m\u001B[38;5;241;43m.\u001B[39;49m\u001B[43mclient\u001B[49m\u001B[38;5;241;43m.\u001B[39;49m\u001B[43m_retryable_write\u001B[49m\u001B[43m(\u001B[49m\u001B[43macknowledged\u001B[49m\u001B[43m,\u001B[49m\u001B[43m \u001B[49m\u001B[43m_insert_command\u001B[49m\u001B[43m,\u001B[49m\u001B[43m \u001B[49m\u001B[43msession\u001B[49m\u001B[43m)\u001B[49m\n\u001B[0;32m    571\u001B[0m \u001B[38;5;28;01mif\u001B[39;00m \u001B[38;5;129;01mnot\u001B[39;00m \u001B[38;5;28misinstance\u001B[39m(doc, RawBSONDocument):\n\u001B[0;32m    572\u001B[0m     \u001B[38;5;28;01mreturn\u001B[39;00m doc\u001B[38;5;241m.\u001B[39mget(\u001B[38;5;124m\"\u001B[39m\u001B[38;5;124m_id\u001B[39m\u001B[38;5;124m\"\u001B[39m)\n",
      "File \u001B[1;32mD:\\Programming\\python\\virt\\base\\python311\\Lib\\site-packages\\pymongo\\mongo_client.py:1476\u001B[0m, in \u001B[0;36mMongoClient._retryable_write\u001B[1;34m(self, retryable, func, session)\u001B[0m\n\u001B[0;32m   1474\u001B[0m \u001B[38;5;250m\u001B[39m\u001B[38;5;124;03m\"\"\"Internal retryable write helper.\"\"\"\u001B[39;00m\n\u001B[0;32m   1475\u001B[0m \u001B[38;5;28;01mwith\u001B[39;00m \u001B[38;5;28mself\u001B[39m\u001B[38;5;241m.\u001B[39m_tmp_session(session) \u001B[38;5;28;01mas\u001B[39;00m s:\n\u001B[1;32m-> 1476\u001B[0m     \u001B[38;5;28;01mreturn\u001B[39;00m \u001B[38;5;28;43mself\u001B[39;49m\u001B[38;5;241;43m.\u001B[39;49m\u001B[43m_retry_with_session\u001B[49m\u001B[43m(\u001B[49m\u001B[43mretryable\u001B[49m\u001B[43m,\u001B[49m\u001B[43m \u001B[49m\u001B[43mfunc\u001B[49m\u001B[43m,\u001B[49m\u001B[43m \u001B[49m\u001B[43ms\u001B[49m\u001B[43m,\u001B[49m\u001B[43m \u001B[49m\u001B[38;5;28;43;01mNone\u001B[39;49;00m\u001B[43m)\u001B[49m\n",
      "File \u001B[1;32mD:\\Programming\\python\\virt\\base\\python311\\Lib\\site-packages\\pymongo\\mongo_client.py:1349\u001B[0m, in \u001B[0;36mMongoClient._retry_with_session\u001B[1;34m(self, retryable, func, session, bulk)\u001B[0m\n\u001B[0;32m   1339\u001B[0m \u001B[38;5;250m\u001B[39m\u001B[38;5;124;03m\"\"\"Execute an operation with at most one consecutive retries\u001B[39;00m\n\u001B[0;32m   1340\u001B[0m \n\u001B[0;32m   1341\u001B[0m \u001B[38;5;124;03mReturns func()'s return value on success. On error retries the same\u001B[39;00m\n\u001B[1;32m   (...)\u001B[0m\n\u001B[0;32m   1344\u001B[0m \u001B[38;5;124;03mRe-raises any exception thrown by func().\u001B[39;00m\n\u001B[0;32m   1345\u001B[0m \u001B[38;5;124;03m\"\"\"\u001B[39;00m\n\u001B[0;32m   1346\u001B[0m retryable \u001B[38;5;241m=\u001B[39m (\n\u001B[0;32m   1347\u001B[0m     retryable \u001B[38;5;129;01mand\u001B[39;00m \u001B[38;5;28mself\u001B[39m\u001B[38;5;241m.\u001B[39moptions\u001B[38;5;241m.\u001B[39mretry_writes \u001B[38;5;129;01mand\u001B[39;00m session \u001B[38;5;129;01mand\u001B[39;00m \u001B[38;5;129;01mnot\u001B[39;00m session\u001B[38;5;241m.\u001B[39min_transaction\n\u001B[0;32m   1348\u001B[0m )\n\u001B[1;32m-> 1349\u001B[0m \u001B[38;5;28;01mreturn\u001B[39;00m \u001B[38;5;28;43mself\u001B[39;49m\u001B[38;5;241;43m.\u001B[39;49m\u001B[43m_retry_internal\u001B[49m\u001B[43m(\u001B[49m\u001B[43mretryable\u001B[49m\u001B[43m,\u001B[49m\u001B[43m \u001B[49m\u001B[43mfunc\u001B[49m\u001B[43m,\u001B[49m\u001B[43m \u001B[49m\u001B[43msession\u001B[49m\u001B[43m,\u001B[49m\u001B[43m \u001B[49m\u001B[43mbulk\u001B[49m\u001B[43m)\u001B[49m\n",
      "File \u001B[1;32mD:\\Programming\\python\\virt\\base\\python311\\Lib\\site-packages\\pymongo\\_csot.py:105\u001B[0m, in \u001B[0;36mapply.<locals>.csot_wrapper\u001B[1;34m(self, *args, **kwargs)\u001B[0m\n\u001B[0;32m    103\u001B[0m         \u001B[38;5;28;01mwith\u001B[39;00m _TimeoutContext(timeout):\n\u001B[0;32m    104\u001B[0m             \u001B[38;5;28;01mreturn\u001B[39;00m func(\u001B[38;5;28mself\u001B[39m, \u001B[38;5;241m*\u001B[39margs, \u001B[38;5;241m*\u001B[39m\u001B[38;5;241m*\u001B[39mkwargs)\n\u001B[1;32m--> 105\u001B[0m \u001B[38;5;28;01mreturn\u001B[39;00m \u001B[43mfunc\u001B[49m\u001B[43m(\u001B[49m\u001B[38;5;28;43mself\u001B[39;49m\u001B[43m,\u001B[49m\u001B[43m \u001B[49m\u001B[38;5;241;43m*\u001B[39;49m\u001B[43margs\u001B[49m\u001B[43m,\u001B[49m\u001B[43m \u001B[49m\u001B[38;5;241;43m*\u001B[39;49m\u001B[38;5;241;43m*\u001B[39;49m\u001B[43mkwargs\u001B[49m\u001B[43m)\u001B[49m\n",
      "File \u001B[1;32mD:\\Programming\\python\\virt\\base\\python311\\Lib\\site-packages\\pymongo\\mongo_client.py:1390\u001B[0m, in \u001B[0;36mMongoClient._retry_internal\u001B[1;34m(self, retryable, func, session, bulk)\u001B[0m\n\u001B[0;32m   1388\u001B[0m                 \u001B[38;5;28;01mraise\u001B[39;00m last_error\n\u001B[0;32m   1389\u001B[0m             retryable \u001B[38;5;241m=\u001B[39m \u001B[38;5;28;01mFalse\u001B[39;00m\n\u001B[1;32m-> 1390\u001B[0m         \u001B[38;5;28;01mreturn\u001B[39;00m \u001B[43mfunc\u001B[49m\u001B[43m(\u001B[49m\u001B[43msession\u001B[49m\u001B[43m,\u001B[49m\u001B[43m \u001B[49m\u001B[43msock_info\u001B[49m\u001B[43m,\u001B[49m\u001B[43m \u001B[49m\u001B[43mretryable\u001B[49m\u001B[43m)\u001B[49m\n\u001B[0;32m   1391\u001B[0m \u001B[38;5;28;01mexcept\u001B[39;00m ServerSelectionTimeoutError:\n\u001B[0;32m   1392\u001B[0m     \u001B[38;5;28;01mif\u001B[39;00m is_retrying():\n\u001B[0;32m   1393\u001B[0m         \u001B[38;5;66;03m# The application may think the write was never attempted\u001B[39;00m\n\u001B[0;32m   1394\u001B[0m         \u001B[38;5;66;03m# if we raise ServerSelectionTimeoutError on the retry\u001B[39;00m\n\u001B[0;32m   1395\u001B[0m         \u001B[38;5;66;03m# attempt. Raise the original exception instead.\u001B[39;00m\n",
      "File \u001B[1;32mD:\\Programming\\python\\virt\\base\\python311\\Lib\\site-packages\\pymongo\\collection.py:557\u001B[0m, in \u001B[0;36mCollection._insert_one.<locals>._insert_command\u001B[1;34m(session, sock_info, retryable_write)\u001B[0m\n\u001B[0;32m    554\u001B[0m \u001B[38;5;28;01mif\u001B[39;00m bypass_doc_val:\n\u001B[0;32m    555\u001B[0m     command[\u001B[38;5;124m\"\u001B[39m\u001B[38;5;124mbypassDocumentValidation\u001B[39m\u001B[38;5;124m\"\u001B[39m] \u001B[38;5;241m=\u001B[39m \u001B[38;5;28;01mTrue\u001B[39;00m\n\u001B[1;32m--> 557\u001B[0m result \u001B[38;5;241m=\u001B[39m \u001B[43msock_info\u001B[49m\u001B[38;5;241;43m.\u001B[39;49m\u001B[43mcommand\u001B[49m\u001B[43m(\u001B[49m\n\u001B[0;32m    558\u001B[0m \u001B[43m    \u001B[49m\u001B[38;5;28;43mself\u001B[39;49m\u001B[38;5;241;43m.\u001B[39;49m\u001B[43m__database\u001B[49m\u001B[38;5;241;43m.\u001B[39;49m\u001B[43mname\u001B[49m\u001B[43m,\u001B[49m\n\u001B[0;32m    559\u001B[0m \u001B[43m    \u001B[49m\u001B[43mcommand\u001B[49m\u001B[43m,\u001B[49m\n\u001B[0;32m    560\u001B[0m \u001B[43m    \u001B[49m\u001B[43mwrite_concern\u001B[49m\u001B[38;5;241;43m=\u001B[39;49m\u001B[43mwrite_concern\u001B[49m\u001B[43m,\u001B[49m\n\u001B[0;32m    561\u001B[0m \u001B[43m    \u001B[49m\u001B[43mcodec_options\u001B[49m\u001B[38;5;241;43m=\u001B[39;49m\u001B[38;5;28;43mself\u001B[39;49m\u001B[38;5;241;43m.\u001B[39;49m\u001B[43m__write_response_codec_options\u001B[49m\u001B[43m,\u001B[49m\n\u001B[0;32m    562\u001B[0m \u001B[43m    \u001B[49m\u001B[43msession\u001B[49m\u001B[38;5;241;43m=\u001B[39;49m\u001B[43msession\u001B[49m\u001B[43m,\u001B[49m\n\u001B[0;32m    563\u001B[0m \u001B[43m    \u001B[49m\u001B[43mclient\u001B[49m\u001B[38;5;241;43m=\u001B[39;49m\u001B[38;5;28;43mself\u001B[39;49m\u001B[38;5;241;43m.\u001B[39;49m\u001B[43m__database\u001B[49m\u001B[38;5;241;43m.\u001B[39;49m\u001B[43mclient\u001B[49m\u001B[43m,\u001B[49m\n\u001B[0;32m    564\u001B[0m \u001B[43m    \u001B[49m\u001B[43mretryable_write\u001B[49m\u001B[38;5;241;43m=\u001B[39;49m\u001B[43mretryable_write\u001B[49m\u001B[43m,\u001B[49m\n\u001B[0;32m    565\u001B[0m \u001B[43m\u001B[49m\u001B[43m)\u001B[49m\n\u001B[0;32m    567\u001B[0m _check_write_command_response(result)\n",
      "File \u001B[1;32mD:\\Programming\\python\\virt\\base\\python311\\Lib\\site-packages\\pymongo\\pool.py:795\u001B[0m, in \u001B[0;36mSocketInfo.command\u001B[1;34m(self, dbname, spec, read_preference, codec_options, check, allowable_errors, read_concern, write_concern, parse_write_concern_error, collation, session, client, retryable_write, publish_events, user_fields, exhaust_allowed)\u001B[0m\n\u001B[0;32m    793\u001B[0m \u001B[38;5;66;03m# Catch socket.error, KeyboardInterrupt, etc. and close ourselves.\u001B[39;00m\n\u001B[0;32m    794\u001B[0m \u001B[38;5;28;01mexcept\u001B[39;00m \u001B[38;5;167;01mBaseException\u001B[39;00m \u001B[38;5;28;01mas\u001B[39;00m error:\n\u001B[1;32m--> 795\u001B[0m     \u001B[38;5;28;43mself\u001B[39;49m\u001B[38;5;241;43m.\u001B[39;49m\u001B[43m_raise_connection_failure\u001B[49m\u001B[43m(\u001B[49m\u001B[43merror\u001B[49m\u001B[43m)\u001B[49m\n",
      "File \u001B[1;32mD:\\Programming\\python\\virt\\base\\python311\\Lib\\site-packages\\pymongo\\pool.py:767\u001B[0m, in \u001B[0;36mSocketInfo.command\u001B[1;34m(self, dbname, spec, read_preference, codec_options, check, allowable_errors, read_concern, write_concern, parse_write_concern_error, collation, session, client, retryable_write, publish_events, user_fields, exhaust_allowed)\u001B[0m\n\u001B[0;32m    765\u001B[0m     \u001B[38;5;28mself\u001B[39m\u001B[38;5;241m.\u001B[39m_raise_if_not_writable(unacknowledged)\n\u001B[0;32m    766\u001B[0m \u001B[38;5;28;01mtry\u001B[39;00m:\n\u001B[1;32m--> 767\u001B[0m     \u001B[38;5;28;01mreturn\u001B[39;00m \u001B[43mcommand\u001B[49m\u001B[43m(\u001B[49m\n\u001B[0;32m    768\u001B[0m \u001B[43m        \u001B[49m\u001B[38;5;28;43mself\u001B[39;49m\u001B[43m,\u001B[49m\n\u001B[0;32m    769\u001B[0m \u001B[43m        \u001B[49m\u001B[43mdbname\u001B[49m\u001B[43m,\u001B[49m\n\u001B[0;32m    770\u001B[0m \u001B[43m        \u001B[49m\u001B[43mspec\u001B[49m\u001B[43m,\u001B[49m\n\u001B[0;32m    771\u001B[0m \u001B[43m        \u001B[49m\u001B[38;5;28;43mself\u001B[39;49m\u001B[38;5;241;43m.\u001B[39;49m\u001B[43mis_mongos\u001B[49m\u001B[43m,\u001B[49m\n\u001B[0;32m    772\u001B[0m \u001B[43m        \u001B[49m\u001B[43mread_preference\u001B[49m\u001B[43m,\u001B[49m\n\u001B[0;32m    773\u001B[0m \u001B[43m        \u001B[49m\u001B[43mcodec_options\u001B[49m\u001B[43m,\u001B[49m\n\u001B[0;32m    774\u001B[0m \u001B[43m        \u001B[49m\u001B[43msession\u001B[49m\u001B[43m,\u001B[49m\n\u001B[0;32m    775\u001B[0m \u001B[43m        \u001B[49m\u001B[43mclient\u001B[49m\u001B[43m,\u001B[49m\n\u001B[0;32m    776\u001B[0m \u001B[43m        \u001B[49m\u001B[43mcheck\u001B[49m\u001B[43m,\u001B[49m\n\u001B[0;32m    777\u001B[0m \u001B[43m        \u001B[49m\u001B[43mallowable_errors\u001B[49m\u001B[43m,\u001B[49m\n\u001B[0;32m    778\u001B[0m \u001B[43m        \u001B[49m\u001B[38;5;28;43mself\u001B[39;49m\u001B[38;5;241;43m.\u001B[39;49m\u001B[43maddress\u001B[49m\u001B[43m,\u001B[49m\n\u001B[0;32m    779\u001B[0m \u001B[43m        \u001B[49m\u001B[43mlisteners\u001B[49m\u001B[43m,\u001B[49m\n\u001B[0;32m    780\u001B[0m \u001B[43m        \u001B[49m\u001B[38;5;28;43mself\u001B[39;49m\u001B[38;5;241;43m.\u001B[39;49m\u001B[43mmax_bson_size\u001B[49m\u001B[43m,\u001B[49m\n\u001B[0;32m    781\u001B[0m \u001B[43m        \u001B[49m\u001B[43mread_concern\u001B[49m\u001B[43m,\u001B[49m\n\u001B[0;32m    782\u001B[0m \u001B[43m        \u001B[49m\u001B[43mparse_write_concern_error\u001B[49m\u001B[38;5;241;43m=\u001B[39;49m\u001B[43mparse_write_concern_error\u001B[49m\u001B[43m,\u001B[49m\n\u001B[0;32m    783\u001B[0m \u001B[43m        \u001B[49m\u001B[43mcollation\u001B[49m\u001B[38;5;241;43m=\u001B[39;49m\u001B[43mcollation\u001B[49m\u001B[43m,\u001B[49m\n\u001B[0;32m    784\u001B[0m \u001B[43m        \u001B[49m\u001B[43mcompression_ctx\u001B[49m\u001B[38;5;241;43m=\u001B[39;49m\u001B[38;5;28;43mself\u001B[39;49m\u001B[38;5;241;43m.\u001B[39;49m\u001B[43mcompression_context\u001B[49m\u001B[43m,\u001B[49m\n\u001B[0;32m    785\u001B[0m \u001B[43m        \u001B[49m\u001B[43muse_op_msg\u001B[49m\u001B[38;5;241;43m=\u001B[39;49m\u001B[38;5;28;43mself\u001B[39;49m\u001B[38;5;241;43m.\u001B[39;49m\u001B[43mop_msg_enabled\u001B[49m\u001B[43m,\u001B[49m\n\u001B[0;32m    786\u001B[0m \u001B[43m        \u001B[49m\u001B[43munacknowledged\u001B[49m\u001B[38;5;241;43m=\u001B[39;49m\u001B[43munacknowledged\u001B[49m\u001B[43m,\u001B[49m\n\u001B[0;32m    787\u001B[0m \u001B[43m        \u001B[49m\u001B[43muser_fields\u001B[49m\u001B[38;5;241;43m=\u001B[39;49m\u001B[43muser_fields\u001B[49m\u001B[43m,\u001B[49m\n\u001B[0;32m    788\u001B[0m \u001B[43m        \u001B[49m\u001B[43mexhaust_allowed\u001B[49m\u001B[38;5;241;43m=\u001B[39;49m\u001B[43mexhaust_allowed\u001B[49m\u001B[43m,\u001B[49m\n\u001B[0;32m    789\u001B[0m \u001B[43m        \u001B[49m\u001B[43mwrite_concern\u001B[49m\u001B[38;5;241;43m=\u001B[39;49m\u001B[43mwrite_concern\u001B[49m\u001B[43m,\u001B[49m\n\u001B[0;32m    790\u001B[0m \u001B[43m    \u001B[49m\u001B[43m)\u001B[49m\n\u001B[0;32m    791\u001B[0m \u001B[38;5;28;01mexcept\u001B[39;00m (OperationFailure, NotPrimaryError):\n\u001B[0;32m    792\u001B[0m     \u001B[38;5;28;01mraise\u001B[39;00m\n",
      "File \u001B[1;32mD:\\Programming\\python\\virt\\base\\python311\\Lib\\site-packages\\pymongo\\network.py:127\u001B[0m, in \u001B[0;36mcommand\u001B[1;34m(sock_info, dbname, spec, is_mongos, read_preference, codec_options, session, client, check, allowable_errors, address, listeners, max_bson_size, read_concern, parse_write_concern_error, collation, compression_ctx, use_op_msg, unacknowledged, user_fields, exhaust_allowed, write_concern)\u001B[0m\n\u001B[0;32m    125\u001B[0m flags \u001B[38;5;241m=\u001B[39m _OpMsg\u001B[38;5;241m.\u001B[39mMORE_TO_COME \u001B[38;5;28;01mif\u001B[39;00m unacknowledged \u001B[38;5;28;01melse\u001B[39;00m \u001B[38;5;241m0\u001B[39m\n\u001B[0;32m    126\u001B[0m flags \u001B[38;5;241m|\u001B[39m\u001B[38;5;241m=\u001B[39m _OpMsg\u001B[38;5;241m.\u001B[39mEXHAUST_ALLOWED \u001B[38;5;28;01mif\u001B[39;00m exhaust_allowed \u001B[38;5;28;01melse\u001B[39;00m \u001B[38;5;241m0\u001B[39m\n\u001B[1;32m--> 127\u001B[0m request_id, msg, size, max_doc_size \u001B[38;5;241m=\u001B[39m \u001B[43mmessage\u001B[49m\u001B[38;5;241;43m.\u001B[39;49m\u001B[43m_op_msg\u001B[49m\u001B[43m(\u001B[49m\n\u001B[0;32m    128\u001B[0m \u001B[43m    \u001B[49m\u001B[43mflags\u001B[49m\u001B[43m,\u001B[49m\u001B[43m \u001B[49m\u001B[43mspec\u001B[49m\u001B[43m,\u001B[49m\u001B[43m \u001B[49m\u001B[43mdbname\u001B[49m\u001B[43m,\u001B[49m\u001B[43m \u001B[49m\u001B[43mread_preference\u001B[49m\u001B[43m,\u001B[49m\u001B[43m \u001B[49m\u001B[43mcodec_options\u001B[49m\u001B[43m,\u001B[49m\u001B[43m \u001B[49m\u001B[43mctx\u001B[49m\u001B[38;5;241;43m=\u001B[39;49m\u001B[43mcompression_ctx\u001B[49m\n\u001B[0;32m    129\u001B[0m \u001B[43m\u001B[49m\u001B[43m)\u001B[49m\n\u001B[0;32m    130\u001B[0m \u001B[38;5;66;03m# If this is an unacknowledged write then make sure the encoded doc(s)\u001B[39;00m\n\u001B[0;32m    131\u001B[0m \u001B[38;5;66;03m# are small enough, otherwise rely on the server to return an error.\u001B[39;00m\n\u001B[0;32m    132\u001B[0m \u001B[38;5;28;01mif\u001B[39;00m unacknowledged \u001B[38;5;129;01mand\u001B[39;00m max_bson_size \u001B[38;5;129;01mis\u001B[39;00m \u001B[38;5;129;01mnot\u001B[39;00m \u001B[38;5;28;01mNone\u001B[39;00m \u001B[38;5;129;01mand\u001B[39;00m max_doc_size \u001B[38;5;241m>\u001B[39m max_bson_size:\n",
      "File \u001B[1;32mD:\\Programming\\python\\virt\\base\\python311\\Lib\\site-packages\\pymongo\\message.py:692\u001B[0m, in \u001B[0;36m_op_msg\u001B[1;34m(flags, command, dbname, read_preference, opts, ctx)\u001B[0m\n\u001B[0;32m    690\u001B[0m     \u001B[38;5;28;01mif\u001B[39;00m ctx:\n\u001B[0;32m    691\u001B[0m         \u001B[38;5;28;01mreturn\u001B[39;00m _op_msg_compressed(flags, command, identifier, docs, opts, ctx)\n\u001B[1;32m--> 692\u001B[0m     \u001B[38;5;28;01mreturn\u001B[39;00m \u001B[43m_op_msg_uncompressed\u001B[49m\u001B[43m(\u001B[49m\u001B[43mflags\u001B[49m\u001B[43m,\u001B[49m\u001B[43m \u001B[49m\u001B[43mcommand\u001B[49m\u001B[43m,\u001B[49m\u001B[43m \u001B[49m\u001B[43midentifier\u001B[49m\u001B[43m,\u001B[49m\u001B[43m \u001B[49m\u001B[43mdocs\u001B[49m\u001B[43m,\u001B[49m\u001B[43m \u001B[49m\u001B[43mopts\u001B[49m\u001B[43m)\u001B[49m\n\u001B[0;32m    693\u001B[0m \u001B[38;5;28;01mfinally\u001B[39;00m:\n\u001B[0;32m    694\u001B[0m     \u001B[38;5;66;03m# Add the field back to the command.\u001B[39;00m\n\u001B[0;32m    695\u001B[0m     \u001B[38;5;28;01mif\u001B[39;00m identifier:\n",
      "\u001B[1;31mInvalidDocument\u001B[0m: documents must have only string keys, key was 713"
     ]
    }
   ],
   "source": [
    "mycol.insert_one(date)"
   ],
   "metadata": {
    "collapsed": false
   }
  },
  {
   "cell_type": "code",
   "execution_count": 23,
   "outputs": [],
   "source": [
    "data.columns = list(map(str, data.columns))"
   ],
   "metadata": {
    "collapsed": false
   }
  },
  {
   "cell_type": "code",
   "execution_count": 24,
   "outputs": [
    {
     "data": {
      "text/plain": "['exam']"
     },
     "execution_count": 24,
     "metadata": {},
     "output_type": "execute_result"
    }
   ],
   "source": [
    "mydb.list_collection_names()"
   ],
   "metadata": {
    "collapsed": false
   }
  },
  {
   "cell_type": "code",
   "execution_count": 25,
   "outputs": [
    {
     "name": "stdout",
     "output_type": "stream",
     "text": [
      "{'_id': ObjectId('63de0d1c1a3db37dd462d076'), 'exam_id': 2, 'name': '713', 'score': {'概率': '优', '实数': '良', '不等式': '良', '三角函数': '良', '分式': '差', '四边形': '中', '一次函数': '中', '轴对称': '良', '一元二次方程': '优', '二次函数': '良', '二元一次方程': '优'}}\n",
      "{'_id': ObjectId('63de0d1c1a3db37dd462d077'), 'exam_id': 2, 'name': '714', 'score': {'概率': '中', '实数': '中', '不等式': '良', '三角函数': '良', '分式': '差', '四边形': '中', '一次函数': '良', '轴对称': '优', '一元二次方程': '差', '二次函数': '良', '二元一次方程': '中'}}\n",
      "{'_id': ObjectId('63de0d1c1a3db37dd462d078'), 'exam_id': 2, 'name': '715', 'score': {'概率': '中', '实数': '中', '不等式': '差', '三角函数': '良', '分式': '良', '四边形': '中', '一次函数': '中', '轴对称': '良', '一元二次方程': '差', '二次函数': '优', '二元一次方程': '差'}}\n",
      "{'_id': ObjectId('63de0d1c1a3db37dd462d079'), 'exam_id': 2, 'name': '716', 'score': {'概率': '差', '实数': '中', '不等式': '差', '三角函数': '优', '分式': '良', '四边形': '中', '一次函数': '优', '轴对称': '差', '一元二次方程': '差', '二次函数': '良', '二元一次方程': '差'}}\n",
      "{'_id': ObjectId('63de0d1c1a3db37dd462d07a'), 'exam_id': 2, 'name': '717', 'score': {'概率': '中', '实数': '良', '不等式': '良', '三角函数': '优', '分式': '差', '四边形': '中', '一次函数': '良', '轴对称': '优', '一元二次方程': '优', '二次函数': '中', '二元一次方程': '中'}}\n",
      "{'_id': ObjectId('63de0d1c1a3db37dd462d07b'), 'exam_id': 2, 'name': '718', 'score': {'概率': '中', '实数': '差', '不等式': '良', '三角函数': '良', '分式': '差', '四边形': '差', '一次函数': '差', '轴对称': '差', '一元二次方程': '差', '二次函数': '差', '二元一次方程': '中'}}\n",
      "{'_id': ObjectId('63de0d1c1a3db37dd462d07c'), 'exam_id': 2, 'name': '719', 'score': {'概率': '差', '实数': '良', '不等式': '差', '三角函数': '良', '分式': '差', '四边形': '差', '一次函数': '中', '轴对称': '良', '一元二次方程': '差', '二次函数': '差', '二元一次方程': '优'}}\n",
      "{'_id': ObjectId('63de0d1c1a3db37dd462d07d'), 'exam_id': 2, 'name': '720', 'score': {'概率': '优', '实数': '差', '不等式': '差', '三角函数': '良', '分式': '差', '四边形': '差', '一次函数': '中', '轴对称': '中', '一元二次方程': '优', '二次函数': '中', '二元一次方程': '良'}}\n",
      "{'_id': ObjectId('63de0d1c1a3db37dd462d07e'), 'exam_id': 2, 'name': '721', 'score': {'概率': '中', '实数': '中', '不等式': '良', '三角函数': '优', '分式': '良', '四边形': '差', '一次函数': '中', '轴对称': '差', '一元二次方程': '优', '二次函数': '优', '二元一次方程': '优'}}\n",
      "{'_id': ObjectId('63de0d1c1a3db37dd462d07f'), 'exam_id': 2, 'name': '722', 'score': {'概率': '差', '实数': '中', '不等式': '良', '三角函数': '良', '分式': '良', '四边形': '中', '一次函数': '优', '轴对称': '优', '一元二次方程': '差', '二次函数': '优', '二元一次方程': '良'}}\n",
      "{'_id': ObjectId('63de0d1c1a3db37dd462d080'), 'exam_id': 2, 'name': '723', 'score': {'概率': '中', '实数': '良', '不等式': '良', '三角函数': '优', '分式': '差', '四边形': '中', '一次函数': '良', '轴对称': '中', '一元二次方程': '差', '二次函数': '差', '二元一次方程': '优'}}\n",
      "{'_id': ObjectId('63de0d1c1a3db37dd462d081'), 'exam_id': 2, 'name': '724', 'score': {'概率': '中', '实数': '差', '不等式': '差', '三角函数': '优', '分式': '良', '四边形': '中', '一次函数': '良', '轴对称': '差', '一元二次方程': '差', '二次函数': '良', '二元一次方程': '优'}}\n",
      "{'_id': ObjectId('63de0d1c1a3db37dd462d082'), 'exam_id': 2, 'name': '725', 'score': {'概率': '差', '实数': '良', '不等式': '良', '三角函数': '优', '分式': '良', '四边形': '中', '一次函数': '良', '轴对称': '良', '一元二次方程': '优', '二次函数': '优', '二元一次方程': '良'}}\n",
      "{'_id': ObjectId('63de0d1c1a3db37dd462d083'), 'exam_id': 2, 'name': '726', 'score': {'概率': '中', '实数': '优', '不等式': '差', '三角函数': '良', '分式': '良', '四边形': '差', '一次函数': '中', '轴对称': '优', '一元二次方程': '差', '二次函数': '良', '二元一次方程': '良'}}\n"
     ]
    }
   ],
   "source": [
    "for i in mycol.find():\n",
    "    print(i)"
   ],
   "metadata": {
    "collapsed": false
   }
  },
  {
   "cell_type": "code",
   "execution_count": 26,
   "outputs": [],
   "source": [
    "ans = mycol.find({'exam_id': 2, 'name':'726'})\n"
   ],
   "metadata": {
    "collapsed": false
   }
  },
  {
   "cell_type": "code",
   "execution_count": 27,
   "outputs": [
    {
     "data": {
      "text/plain": "[{'_id': ObjectId('63de0d1c1a3db37dd462d083'),\n  'exam_id': 2,\n  'name': '726',\n  'score': {'概率': '中',\n   '实数': '优',\n   '不等式': '差',\n   '三角函数': '良',\n   '分式': '良',\n   '四边形': '差',\n   '一次函数': '中',\n   '轴对称': '优',\n   '一元二次方程': '差',\n   '二次函数': '良',\n   '二元一次方程': '良'}}]"
     },
     "execution_count": 27,
     "metadata": {},
     "output_type": "execute_result"
    }
   ],
   "source": [
    "list(ans)"
   ],
   "metadata": {
    "collapsed": false
   }
  },
  {
   "cell_type": "code",
   "execution_count": 28,
   "outputs": [
    {
     "data": {
      "text/plain": "<pymongo.cursor.Cursor at 0x417d12d0>"
     },
     "execution_count": 28,
     "metadata": {},
     "output_type": "execute_result"
    }
   ],
   "source": [
    "mycol.find()"
   ],
   "metadata": {
    "collapsed": false
   }
  },
  {
   "cell_type": "code",
   "execution_count": 29,
   "outputs": [
    {
     "data": {
      "text/plain": "           0     1     2\n0       一次函数  二次函数  0.64\n1       二次函数  一次函数  0.78\n2       一次函数   四边形  0.73\n3        四边形  一次函数  0.89\n4       一次函数    实数  0.82\n5         实数  一次函数  0.82\n6       一次函数    概率  0.64\n7         概率  一次函数  0.70\n8       一次函数   轴对称  0.82\n9        轴对称  一次函数  0.90\n10       不等式    实数  0.88\n11        实数   不等式  0.64\n12      二次函数   四边形  0.78\n13       四边形  二次函数  0.78\n14      二次函数    实数  0.89\n15        实数  二次函数  0.73\n16       四边形    实数  0.89\n17        实数   四边形  0.73\n18       四边形   轴对称  0.78\n19       轴对称   四边形  0.70\n20        概率    实数  0.70\n21        实数    概率  0.64\n22       轴对称    实数  0.90\n23        实数   轴对称  0.82\n24        概率   轴对称  0.70\n25       轴对称    概率  0.70\n26      二次函数    分式  0.78\n27        分式  二次函数  1.00\n28  四边形-一次函数    实数  0.88\n29   实数-一次函数   四边形  0.78\n30    实数-四边形  一次函数  0.88\n31  四边形-一次函数    实数  0.88\n32   实数-一次函数   四边形  0.78\n33    实数-四边形  一次函数  0.88\n34  轴对称-一次函数    实数  0.89\n35   实数-一次函数   轴对称  0.89\n36    实数-轴对称  一次函数  0.89\n37  轴对称-一次函数    实数  0.89\n38   实数-一次函数   轴对称  0.89\n39    实数-轴对称  一次函数  0.89\n40   轴对称-四边形    实数  1.00\n41    实数-四边形   轴对称  0.88\n42    实数-轴对称   四边形  0.78\n43   轴对称-四边形    实数  1.00\n44    实数-四边形   轴对称  0.88\n45    实数-轴对称   四边形  0.78",
      "text/html": "<div>\n<style scoped>\n    .dataframe tbody tr th:only-of-type {\n        vertical-align: middle;\n    }\n\n    .dataframe tbody tr th {\n        vertical-align: top;\n    }\n\n    .dataframe thead th {\n        text-align: right;\n    }\n</style>\n<table border=\"1\" class=\"dataframe\">\n  <thead>\n    <tr style=\"text-align: right;\">\n      <th></th>\n      <th>0</th>\n      <th>1</th>\n      <th>2</th>\n    </tr>\n  </thead>\n  <tbody>\n    <tr>\n      <th>0</th>\n      <td>一次函数</td>\n      <td>二次函数</td>\n      <td>0.64</td>\n    </tr>\n    <tr>\n      <th>1</th>\n      <td>二次函数</td>\n      <td>一次函数</td>\n      <td>0.78</td>\n    </tr>\n    <tr>\n      <th>2</th>\n      <td>一次函数</td>\n      <td>四边形</td>\n      <td>0.73</td>\n    </tr>\n    <tr>\n      <th>3</th>\n      <td>四边形</td>\n      <td>一次函数</td>\n      <td>0.89</td>\n    </tr>\n    <tr>\n      <th>4</th>\n      <td>一次函数</td>\n      <td>实数</td>\n      <td>0.82</td>\n    </tr>\n    <tr>\n      <th>5</th>\n      <td>实数</td>\n      <td>一次函数</td>\n      <td>0.82</td>\n    </tr>\n    <tr>\n      <th>6</th>\n      <td>一次函数</td>\n      <td>概率</td>\n      <td>0.64</td>\n    </tr>\n    <tr>\n      <th>7</th>\n      <td>概率</td>\n      <td>一次函数</td>\n      <td>0.70</td>\n    </tr>\n    <tr>\n      <th>8</th>\n      <td>一次函数</td>\n      <td>轴对称</td>\n      <td>0.82</td>\n    </tr>\n    <tr>\n      <th>9</th>\n      <td>轴对称</td>\n      <td>一次函数</td>\n      <td>0.90</td>\n    </tr>\n    <tr>\n      <th>10</th>\n      <td>不等式</td>\n      <td>实数</td>\n      <td>0.88</td>\n    </tr>\n    <tr>\n      <th>11</th>\n      <td>实数</td>\n      <td>不等式</td>\n      <td>0.64</td>\n    </tr>\n    <tr>\n      <th>12</th>\n      <td>二次函数</td>\n      <td>四边形</td>\n      <td>0.78</td>\n    </tr>\n    <tr>\n      <th>13</th>\n      <td>四边形</td>\n      <td>二次函数</td>\n      <td>0.78</td>\n    </tr>\n    <tr>\n      <th>14</th>\n      <td>二次函数</td>\n      <td>实数</td>\n      <td>0.89</td>\n    </tr>\n    <tr>\n      <th>15</th>\n      <td>实数</td>\n      <td>二次函数</td>\n      <td>0.73</td>\n    </tr>\n    <tr>\n      <th>16</th>\n      <td>四边形</td>\n      <td>实数</td>\n      <td>0.89</td>\n    </tr>\n    <tr>\n      <th>17</th>\n      <td>实数</td>\n      <td>四边形</td>\n      <td>0.73</td>\n    </tr>\n    <tr>\n      <th>18</th>\n      <td>四边形</td>\n      <td>轴对称</td>\n      <td>0.78</td>\n    </tr>\n    <tr>\n      <th>19</th>\n      <td>轴对称</td>\n      <td>四边形</td>\n      <td>0.70</td>\n    </tr>\n    <tr>\n      <th>20</th>\n      <td>概率</td>\n      <td>实数</td>\n      <td>0.70</td>\n    </tr>\n    <tr>\n      <th>21</th>\n      <td>实数</td>\n      <td>概率</td>\n      <td>0.64</td>\n    </tr>\n    <tr>\n      <th>22</th>\n      <td>轴对称</td>\n      <td>实数</td>\n      <td>0.90</td>\n    </tr>\n    <tr>\n      <th>23</th>\n      <td>实数</td>\n      <td>轴对称</td>\n      <td>0.82</td>\n    </tr>\n    <tr>\n      <th>24</th>\n      <td>概率</td>\n      <td>轴对称</td>\n      <td>0.70</td>\n    </tr>\n    <tr>\n      <th>25</th>\n      <td>轴对称</td>\n      <td>概率</td>\n      <td>0.70</td>\n    </tr>\n    <tr>\n      <th>26</th>\n      <td>二次函数</td>\n      <td>分式</td>\n      <td>0.78</td>\n    </tr>\n    <tr>\n      <th>27</th>\n      <td>分式</td>\n      <td>二次函数</td>\n      <td>1.00</td>\n    </tr>\n    <tr>\n      <th>28</th>\n      <td>四边形-一次函数</td>\n      <td>实数</td>\n      <td>0.88</td>\n    </tr>\n    <tr>\n      <th>29</th>\n      <td>实数-一次函数</td>\n      <td>四边形</td>\n      <td>0.78</td>\n    </tr>\n    <tr>\n      <th>30</th>\n      <td>实数-四边形</td>\n      <td>一次函数</td>\n      <td>0.88</td>\n    </tr>\n    <tr>\n      <th>31</th>\n      <td>四边形-一次函数</td>\n      <td>实数</td>\n      <td>0.88</td>\n    </tr>\n    <tr>\n      <th>32</th>\n      <td>实数-一次函数</td>\n      <td>四边形</td>\n      <td>0.78</td>\n    </tr>\n    <tr>\n      <th>33</th>\n      <td>实数-四边形</td>\n      <td>一次函数</td>\n      <td>0.88</td>\n    </tr>\n    <tr>\n      <th>34</th>\n      <td>轴对称-一次函数</td>\n      <td>实数</td>\n      <td>0.89</td>\n    </tr>\n    <tr>\n      <th>35</th>\n      <td>实数-一次函数</td>\n      <td>轴对称</td>\n      <td>0.89</td>\n    </tr>\n    <tr>\n      <th>36</th>\n      <td>实数-轴对称</td>\n      <td>一次函数</td>\n      <td>0.89</td>\n    </tr>\n    <tr>\n      <th>37</th>\n      <td>轴对称-一次函数</td>\n      <td>实数</td>\n      <td>0.89</td>\n    </tr>\n    <tr>\n      <th>38</th>\n      <td>实数-一次函数</td>\n      <td>轴对称</td>\n      <td>0.89</td>\n    </tr>\n    <tr>\n      <th>39</th>\n      <td>实数-轴对称</td>\n      <td>一次函数</td>\n      <td>0.89</td>\n    </tr>\n    <tr>\n      <th>40</th>\n      <td>轴对称-四边形</td>\n      <td>实数</td>\n      <td>1.00</td>\n    </tr>\n    <tr>\n      <th>41</th>\n      <td>实数-四边形</td>\n      <td>轴对称</td>\n      <td>0.88</td>\n    </tr>\n    <tr>\n      <th>42</th>\n      <td>实数-轴对称</td>\n      <td>四边形</td>\n      <td>0.78</td>\n    </tr>\n    <tr>\n      <th>43</th>\n      <td>轴对称-四边形</td>\n      <td>实数</td>\n      <td>1.00</td>\n    </tr>\n    <tr>\n      <th>44</th>\n      <td>实数-四边形</td>\n      <td>轴对称</td>\n      <td>0.88</td>\n    </tr>\n    <tr>\n      <th>45</th>\n      <td>实数-轴对称</td>\n      <td>四边形</td>\n      <td>0.78</td>\n    </tr>\n  </tbody>\n</table>\n</div>"
     },
     "execution_count": 29,
     "metadata": {},
     "output_type": "execute_result"
    }
   ],
   "source": [
    "pd.DataFrame([['一次函数', '二次函数', 0.64], ['二次函数', '一次函数', 0.78], ['一次函数', '四边形', 0.73], ['四边形', '一次函数', 0.89], ['一次函数', '实数', 0.82], ['实数', '一次函数', 0.82], ['一次函数', '概率', 0.64], ['概率', '一次函数', 0.7], ['一次函数', '轴对称', 0.82], ['轴对称', '一次函数', 0.9], ['不等式', '实数', 0.88], ['实数', '不等式', 0.64], ['二次函数', '四边形', 0.78], ['四边形', '二次函数', 0.78], ['二次函数', '实数', 0.89], ['实数', '二次函数', 0.73], ['四边形', '实数', 0.89], ['实数', '四边形', 0.73], ['四边形', '轴对称', 0.78], ['轴对称', '四边形', 0.7], ['概率', '实数', 0.7], ['实数', '概率', 0.64], ['轴对称', '实数', 0.9], ['实数', '轴对称', 0.82], ['概率', '轴对称', 0.7], ['轴对称', '概率', 0.7], ['二次函数', '分式', 0.78], ['分式', '二次函数', 1.0], ['四边形-一次函数', '实数', 0.88], ['实数-一次函数', '四边形', 0.78], ['实数-四边形', '一次函数', 0.88], ['四边形-一次函数', '实数', 0.88], ['实数-一次函数', '四边形', 0.78], ['实数-四边形', '一次函数', 0.88], ['轴对称-一次函数', '实数', 0.89], ['实数-一次函数', '轴对称', 0.89], ['实数-轴对称', '一次函数', 0.89], ['轴对称-一次函数', '实数', 0.89], ['实数-一次函数', '轴对称', 0.89], ['实数-轴对称', '一次函数', 0.89], ['轴对称-四边形', '实数', 1.0], ['实数-四边形', '轴对称', 0.88], ['实数-轴对称', '四边形', 0.78], ['轴对称-四边形', '实数', 1.0], ['实数-四边形', '轴对称', 0.88], ['实数-轴对称', '四边形', 0.78]]\n",
    ")"
   ],
   "metadata": {
    "collapsed": false
   }
  },
  {
   "cell_type": "code",
   "execution_count": null,
   "outputs": [],
   "source": [],
   "metadata": {
    "collapsed": false
   }
  }
 ],
 "metadata": {
  "kernelspec": {
   "display_name": "Python 3",
   "language": "python",
   "name": "python3"
  },
  "language_info": {
   "codemirror_mode": {
    "name": "ipython",
    "version": 2
   },
   "file_extension": ".py",
   "mimetype": "text/x-python",
   "name": "python",
   "nbconvert_exporter": "python",
   "pygments_lexer": "ipython2",
   "version": "2.7.6"
  }
 },
 "nbformat": 4,
 "nbformat_minor": 0
}
